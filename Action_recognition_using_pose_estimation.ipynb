{
  "cells": [
    {
      "cell_type": "markdown",
      "metadata": {
        "id": "view-in-github",
        "colab_type": "text"
      },
      "source": [
        "<a href=\"https://colab.research.google.com/github/Mithunprb/Joint-action-n-pose-estimation/blob/main/Action_recognition_using_pose_estimation.ipynb\" target=\"_parent\"><img src=\"https://colab.research.google.com/assets/colab-badge.svg\" alt=\"Open In Colab\"/></a>"
      ]
    },
    {
      "cell_type": "markdown",
      "id": "efd8f847",
      "metadata": {
        "id": "efd8f847",
        "papermill": {
          "duration": 0.015711,
          "end_time": "2023-03-12T00:20:11.204038",
          "exception": false,
          "start_time": "2023-03-12T00:20:11.188327",
          "status": "completed"
        },
        "tags": []
      },
      "source": [
        "# Final-Project Part 2: Action recognition using pose estimation\n",
        "Aim of this project is to automatically recognize human actions based on analysis of the body landmarks using pose estimation."
      ]
    },
    {
      "cell_type": "markdown",
      "id": "f7974038",
      "metadata": {
        "papermill": {
          "duration": 0.014379,
          "end_time": "2023-03-12T00:20:11.233206",
          "exception": false,
          "start_time": "2023-03-12T00:20:11.218827",
          "status": "completed"
        },
        "tags": [],
        "id": "f7974038"
      },
      "source": [
        "<a href=\"#section-1\"> 1. Implementation of CNN based Pose Estimation model </a>\n",
        "\n",
        "<a href=\"#section-2\"> 2. Implementation of NN based Action Recognition model </a>\n",
        "\n",
        "<a href=\"#section-3\"> 3. Action Recognition in videos </a>\n",
        "\n",
        "<a href=\"#section-4\"> 4. Testing your model on the evaluation dataset </a>"
      ]
    },
    {
      "cell_type": "markdown",
      "id": "699a0102",
      "metadata": {
        "id": "699a0102",
        "papermill": {
          "duration": 0.014278,
          "end_time": "2023-03-12T00:20:11.269576",
          "exception": false,
          "start_time": "2023-03-12T00:20:11.255298",
          "status": "completed"
        },
        "tags": []
      },
      "source": [
        "## Libraries and dataset\n",
        "\n",
        "**Required libraries**\n",
        "```\n",
        "gdown\n",
        "matplotlib\n",
        "numpy\n",
        "pandas\n",
        "scikit-learn\n",
        "tensorflow\n",
        "```\n",
        "**Dataset**\n",
        "\n",
        "`Data`\n",
        "```\n",
        "Data\n",
        "├── Action_Dataset\n",
        "│   ├── Waving.mp4\n",
        "│   ├── action_joints.csv\n",
        "│   └── images\n",
        "└── Pose_Dataset\n",
        "    ├── test\n",
        "    ├── test_joints_coords.csv\n",
        "    ├── train\n",
        "    └── train_joints_coords.csv\n",
        "\n",
        "5 directories, 4 files\n",
        "```\n",
        "\n",
        "**Uncomment the below cell to download the required libraries**"
      ]
    },
    {
      "cell_type": "code",
      "execution_count": null,
      "id": "094e784c",
      "metadata": {
        "execution": {
          "iopub.execute_input": "2023-03-12T00:20:11.289944Z",
          "iopub.status.busy": "2023-03-12T00:20:11.289492Z",
          "iopub.status.idle": "2023-03-12T00:20:11.295121Z",
          "shell.execute_reply": "2023-03-12T00:20:11.294130Z"
        },
        "id": "094e784c",
        "papermill": {
          "duration": 0.019427,
          "end_time": "2023-03-12T00:20:11.298292",
          "exception": false,
          "start_time": "2023-03-12T00:20:11.278865",
          "status": "completed"
        },
        "tags": []
      },
      "outputs": [],
      "source": [
        "# !pip install --upgrade --no-cache gdown\n",
        "# !pip install -U scikit-learn\n",
        "# !pip install matplotlib\n",
        "# !pip install numpy\n",
        "# !pip install pandas\n",
        "# !pip install tensorflow"
      ]
    },
    {
      "cell_type": "code",
      "execution_count": null,
      "id": "8a536f9e",
      "metadata": {
        "execution": {
          "iopub.execute_input": "2023-03-12T00:20:11.319016Z",
          "iopub.status.busy": "2023-03-12T00:20:11.318739Z",
          "iopub.status.idle": "2023-03-12T00:20:13.448301Z",
          "shell.execute_reply": "2023-03-12T00:20:13.447196Z"
        },
        "id": "8a536f9e",
        "outputId": "9bf17cbf-6e64-4ba8-aeb8-0186fa68cdd1",
        "papermill": {
          "duration": 2.142541,
          "end_time": "2023-03-12T00:20:13.450889",
          "exception": false,
          "start_time": "2023-03-12T00:20:11.308348",
          "status": "completed"
        },
        "scrolled": true,
        "tags": [],
        "colab": {
          "base_uri": "https://localhost:8080/"
        }
      },
      "outputs": [
        {
          "output_type": "stream",
          "name": "stdout",
          "text": [
            "--2023-03-12 18:06:02--  https://docs.google.com/uc?export=download&confirm=&id=12FQpzkwwf53hhvWUsffLWTqgtZDcAOXJ\n",
            "Resolving docs.google.com (docs.google.com)... 173.194.202.101, 173.194.202.102, 173.194.202.100, ...\n",
            "Connecting to docs.google.com (docs.google.com)|173.194.202.101|:443... connected.\n",
            "HTTP request sent, awaiting response... 303 See Other\n",
            "Location: https://doc-0k-bo-docs.googleusercontent.com/docs/securesc/ha0ro937gcuc7l7deffksulhg5h7mbp1/1a7cnpscr2v950m95oetqtjpot2ruhtn/1678644300000/15534100113020007652/*/12FQpzkwwf53hhvWUsffLWTqgtZDcAOXJ?e=download&uuid=ead0ec26-31eb-4320-a9c5-8d7dcddadb88 [following]\n",
            "Warning: wildcards not supported in HTTP.\n",
            "--2023-03-12 18:06:02--  https://doc-0k-bo-docs.googleusercontent.com/docs/securesc/ha0ro937gcuc7l7deffksulhg5h7mbp1/1a7cnpscr2v950m95oetqtjpot2ruhtn/1678644300000/15534100113020007652/*/12FQpzkwwf53hhvWUsffLWTqgtZDcAOXJ?e=download&uuid=ead0ec26-31eb-4320-a9c5-8d7dcddadb88\n",
            "Resolving doc-0k-bo-docs.googleusercontent.com (doc-0k-bo-docs.googleusercontent.com)... 74.125.135.132, 2607:f8b0:400e:c01::84\n",
            "Connecting to doc-0k-bo-docs.googleusercontent.com (doc-0k-bo-docs.googleusercontent.com)|74.125.135.132|:443... connected.\n",
            "HTTP request sent, awaiting response... 200 OK\n",
            "Length: 105126936 (100M) [application/zip]\n",
            "Saving to: ‘Data.zip’\n",
            "\n",
            "Data.zip            100%[===================>] 100.26M  90.9MB/s    in 1.1s    \n",
            "\n",
            "2023-03-12 18:06:04 (90.9 MB/s) - ‘Data.zip’ saved [105126936/105126936]\n",
            "\n"
          ]
        }
      ],
      "source": [
        "!wget --load-cookies /tmp/cookies.txt \"https://docs.google.com/uc?export=download&confirm=$(wget --quiet --save-cookies /tmp/cookies.txt --keep-session-cookies --no-check-certificate 'https://docs.google.com/uc?export=download&id=FILEID' -O- | sed -rn 's/.*confirm=([0-9A-Za-z_]+).*/\\1\\n/p')&id=12FQpzkwwf53hhvWUsffLWTqgtZDcAOXJ\" -O Data.zip && rm -rf /tmp/cookies.txt"
      ]
    },
    {
      "cell_type": "code",
      "execution_count": null,
      "id": "3aa397fd",
      "metadata": {
        "execution": {
          "iopub.execute_input": "2023-03-12T00:20:13.473710Z",
          "iopub.status.busy": "2023-03-12T00:20:13.471903Z",
          "iopub.status.idle": "2023-03-12T00:20:16.462675Z",
          "shell.execute_reply": "2023-03-12T00:20:16.461353Z"
        },
        "id": "3aa397fd",
        "papermill": {
          "duration": 3.004374,
          "end_time": "2023-03-12T00:20:16.465268",
          "exception": false,
          "start_time": "2023-03-12T00:20:13.460894",
          "status": "completed"
        },
        "tags": []
      },
      "outputs": [],
      "source": [
        "!unzip -qq Data.zip\n",
        "!rm Data.zip"
      ]
    },
    {
      "cell_type": "code",
      "execution_count": null,
      "id": "fbef4de3",
      "metadata": {
        "execution": {
          "iopub.execute_input": "2023-03-12T00:20:16.487181Z",
          "iopub.status.busy": "2023-03-12T00:20:16.486195Z",
          "iopub.status.idle": "2023-03-12T00:20:27.911714Z",
          "shell.execute_reply": "2023-03-12T00:20:27.910263Z"
        },
        "id": "fbef4de3",
        "outputId": "77e1edbd-c6d8-42ab-8cee-df35bc6dd574",
        "papermill": {
          "duration": 11.439372,
          "end_time": "2023-03-12T00:20:27.914590",
          "exception": false,
          "start_time": "2023-03-12T00:20:16.475218",
          "status": "completed"
        },
        "scrolled": true,
        "tags": [],
        "colab": {
          "base_uri": "https://localhost:8080/"
        }
      },
      "outputs": [
        {
          "output_type": "stream",
          "name": "stdout",
          "text": [
            "Looking in indexes: https://pypi.org/simple, https://us-python.pkg.dev/colab-wheels/public/simple/\n",
            "Collecting imageio-ffmpeg\n",
            "  Downloading imageio_ffmpeg-0.4.8-py3-none-manylinux2010_x86_64.whl (26.9 MB)\n",
            "\u001b[2K     \u001b[90m━━━━━━━━━━━━━━━━━━━━━━━━━━━━━━━━━━━━━━━━\u001b[0m \u001b[32m26.9/26.9 MB\u001b[0m \u001b[31m29.6 MB/s\u001b[0m eta \u001b[36m0:00:00\u001b[0m\n",
            "\u001b[?25hInstalling collected packages: imageio-ffmpeg\n",
            "Successfully installed imageio-ffmpeg-0.4.8\n"
          ]
        }
      ],
      "source": [
        "!pip install imageio-ffmpeg"
      ]
    },
    {
      "cell_type": "markdown",
      "id": "1484e4c5",
      "metadata": {
        "id": "1484e4c5",
        "papermill": {
          "duration": 0.010285,
          "end_time": "2023-03-12T00:20:27.935804",
          "exception": false,
          "start_time": "2023-03-12T00:20:27.925519",
          "status": "completed"
        },
        "tags": []
      },
      "source": [
        "## Import libraries"
      ]
    },
    {
      "cell_type": "code",
      "execution_count": null,
      "id": "6a946390",
      "metadata": {
        "execution": {
          "iopub.execute_input": "2023-03-12T00:20:27.958637Z",
          "iopub.status.busy": "2023-03-12T00:20:27.958274Z",
          "iopub.status.idle": "2023-03-12T00:20:36.102133Z",
          "shell.execute_reply": "2023-03-12T00:20:36.100997Z"
        },
        "id": "6a946390",
        "papermill": {
          "duration": 8.158269,
          "end_time": "2023-03-12T00:20:36.104693",
          "exception": false,
          "start_time": "2023-03-12T00:20:27.946424",
          "status": "completed"
        },
        "tags": []
      },
      "outputs": [],
      "source": [
        "import os\n",
        "import sklearn\n",
        "import pandas as pd\n",
        "import numpy as np\n",
        "import tensorflow as tf\n",
        "import tensorflow.keras as keras\n",
        "import cv2\n",
        "import matplotlib.pyplot as plt\n",
        "import imageio\n",
        "\n",
        "from IPython.display import Image, display, Markdown\n",
        "from tensorflow.keras.applications.vgg16 import VGG16\n",
        "from tensorflow.keras import Sequential\n",
        "from tensorflow.keras.layers import Flatten, Dense, Dropout, BatchNormalization, InputLayer, Conv2D, MaxPool2D, Activation, Concatenate,add\n",
        "from tensorflow.keras.models import Model\n",
        "from tensorflow.keras.losses import MSE as mse\n",
        "from tensorflow.keras.callbacks import ModelCheckpoint\n",
        "from tensorflow.keras.preprocessing.image import ImageDataGenerator\n",
        "from tensorflow.keras import regularizers\n",
        "from tensorflow.keras import backend as K\n",
        "\n",
        "from sklearn.preprocessing import OneHotEncoder\n",
        "from sklearn.model_selection import train_test_split\n",
        "%matplotlib inline"
      ]
    },
    {
      "cell_type": "code",
      "execution_count": null,
      "id": "3bdfe86a",
      "metadata": {
        "execution": {
          "iopub.execute_input": "2023-03-12T00:20:36.127810Z",
          "iopub.status.busy": "2023-03-12T00:20:36.127182Z",
          "iopub.status.idle": "2023-03-12T00:20:36.140040Z",
          "shell.execute_reply": "2023-03-12T00:20:36.139129Z"
        },
        "id": "3bdfe86a",
        "papermill": {
          "duration": 0.026464,
          "end_time": "2023-03-12T00:20:36.142089",
          "exception": false,
          "start_time": "2023-03-12T00:20:36.115625",
          "status": "completed"
        },
        "tags": []
      },
      "outputs": [],
      "source": [
        "input_shape = (224,224,3)\n",
        "batch_size = 8\n",
        "Epochs=100\n",
        "\n",
        "models_directory = 'models'\n",
        "if not os.path.exists(models_directory):\n",
        "    # Create the directory if it doesn't exist\n",
        "    os.makedirs(models_directory)\n",
        "\n",
        "df = pd.read_csv('Data/Action_Dataset/action_joints.csv')\n",
        "df.columns= list(range(df.shape[1]))"
      ]
    },
    {
      "cell_type": "code",
      "execution_count": null,
      "id": "e1a4e1df",
      "metadata": {
        "execution": {
          "iopub.execute_input": "2023-03-12T00:20:36.164539Z",
          "iopub.status.busy": "2023-03-12T00:20:36.164221Z",
          "iopub.status.idle": "2023-03-12T00:20:36.356789Z",
          "shell.execute_reply": "2023-03-12T00:20:36.355794Z"
        },
        "id": "e1a4e1df",
        "papermill": {
          "duration": 0.206754,
          "end_time": "2023-03-12T00:20:36.359292",
          "exception": false,
          "start_time": "2023-03-12T00:20:36.152538",
          "status": "completed"
        },
        "tags": []
      },
      "outputs": [],
      "source": [
        "#Assigning path variables for train and test iamges for quick use later on\n",
        "train_imgs = 'Data/Pose_Dataset/train'\n",
        "test_imgs = 'Data/Pose_Dataset/test'\n",
        "action_imgs = 'Data/Action_Dataset/images'\n",
        "\n",
        "#Loading train, test, and action joints datasets\n",
        "train_df = pd.read_csv('Data/Pose_Dataset/train_joints_coords.csv', header=None)\n",
        "test_df = pd.read_csv('Data/Pose_Dataset/test_joints_coords.csv', header=None)\n",
        "\n",
        "actions_df = pd.read_csv('Data/Action_Dataset/action_joints.csv')\n",
        "\n",
        "actions_df.columns= list(range(actions_df.shape[1]))"
      ]
    },
    {
      "cell_type": "markdown",
      "id": "8a16cdcf",
      "metadata": {
        "papermill": {
          "duration": 0.010275,
          "end_time": "2023-03-12T00:20:36.380379",
          "exception": false,
          "start_time": "2023-03-12T00:20:36.370104",
          "status": "completed"
        },
        "tags": [],
        "id": "8a16cdcf"
      },
      "source": [
        "Sample rows from the training Pose dataset"
      ]
    },
    {
      "cell_type": "code",
      "execution_count": null,
      "id": "d74ee170",
      "metadata": {
        "execution": {
          "iopub.execute_input": "2023-03-12T00:20:36.402596Z",
          "iopub.status.busy": "2023-03-12T00:20:36.402281Z",
          "iopub.status.idle": "2023-03-12T00:20:36.427623Z",
          "shell.execute_reply": "2023-03-12T00:20:36.426695Z"
        },
        "id": "d74ee170",
        "outputId": "13f8b3ad-f0ed-4f37-d017-afa08066c646",
        "papermill": {
          "duration": 0.038876,
          "end_time": "2023-03-12T00:20:36.429781",
          "exception": false,
          "start_time": "2023-03-12T00:20:36.390905",
          "status": "completed"
        },
        "tags": [],
        "colab": {
          "base_uri": "https://localhost:8080/",
          "height": 201
        }
      },
      "outputs": [
        {
          "output_type": "execute_result",
          "data": {
            "text/plain": [
              "                 0    1    2    3    4    5   6    7   8   9   10  11   12  \\\n",
              "3688  train3688.jpg  133  190  195  159  167  87  104  33  59  82  59  149   \n",
              "1961  train1961.jpg   87  188  180  175  165  85   98  35  54  88  38  168   \n",
              "1247  train1247.jpg  149  161  182  117  145  75   85  33  77  78  65  134   \n",
              "1785  train1785.jpg  120  189  180  160  188  82   82  31  53  80  31  153   \n",
              "3231  train3231.jpg   95  182  148  156  121  91   76  41  41  96  32  151   \n",
              "\n",
              "      13   14  \n",
              "3688  37  187  \n",
              "1961  38  142  \n",
              "1247  42  186  \n",
              "1785  49  191  \n",
              "3231  50  181  "
            ],
            "text/html": [
              "\n",
              "  <div id=\"df-d7b920f6-db40-419f-9422-539dc81bfd9e\">\n",
              "    <div class=\"colab-df-container\">\n",
              "      <div>\n",
              "<style scoped>\n",
              "    .dataframe tbody tr th:only-of-type {\n",
              "        vertical-align: middle;\n",
              "    }\n",
              "\n",
              "    .dataframe tbody tr th {\n",
              "        vertical-align: top;\n",
              "    }\n",
              "\n",
              "    .dataframe thead th {\n",
              "        text-align: right;\n",
              "    }\n",
              "</style>\n",
              "<table border=\"1\" class=\"dataframe\">\n",
              "  <thead>\n",
              "    <tr style=\"text-align: right;\">\n",
              "      <th></th>\n",
              "      <th>0</th>\n",
              "      <th>1</th>\n",
              "      <th>2</th>\n",
              "      <th>3</th>\n",
              "      <th>4</th>\n",
              "      <th>5</th>\n",
              "      <th>6</th>\n",
              "      <th>7</th>\n",
              "      <th>8</th>\n",
              "      <th>9</th>\n",
              "      <th>10</th>\n",
              "      <th>11</th>\n",
              "      <th>12</th>\n",
              "      <th>13</th>\n",
              "      <th>14</th>\n",
              "    </tr>\n",
              "  </thead>\n",
              "  <tbody>\n",
              "    <tr>\n",
              "      <th>3688</th>\n",
              "      <td>train3688.jpg</td>\n",
              "      <td>133</td>\n",
              "      <td>190</td>\n",
              "      <td>195</td>\n",
              "      <td>159</td>\n",
              "      <td>167</td>\n",
              "      <td>87</td>\n",
              "      <td>104</td>\n",
              "      <td>33</td>\n",
              "      <td>59</td>\n",
              "      <td>82</td>\n",
              "      <td>59</td>\n",
              "      <td>149</td>\n",
              "      <td>37</td>\n",
              "      <td>187</td>\n",
              "    </tr>\n",
              "    <tr>\n",
              "      <th>1961</th>\n",
              "      <td>train1961.jpg</td>\n",
              "      <td>87</td>\n",
              "      <td>188</td>\n",
              "      <td>180</td>\n",
              "      <td>175</td>\n",
              "      <td>165</td>\n",
              "      <td>85</td>\n",
              "      <td>98</td>\n",
              "      <td>35</td>\n",
              "      <td>54</td>\n",
              "      <td>88</td>\n",
              "      <td>38</td>\n",
              "      <td>168</td>\n",
              "      <td>38</td>\n",
              "      <td>142</td>\n",
              "    </tr>\n",
              "    <tr>\n",
              "      <th>1247</th>\n",
              "      <td>train1247.jpg</td>\n",
              "      <td>149</td>\n",
              "      <td>161</td>\n",
              "      <td>182</td>\n",
              "      <td>117</td>\n",
              "      <td>145</td>\n",
              "      <td>75</td>\n",
              "      <td>85</td>\n",
              "      <td>33</td>\n",
              "      <td>77</td>\n",
              "      <td>78</td>\n",
              "      <td>65</td>\n",
              "      <td>134</td>\n",
              "      <td>42</td>\n",
              "      <td>186</td>\n",
              "    </tr>\n",
              "    <tr>\n",
              "      <th>1785</th>\n",
              "      <td>train1785.jpg</td>\n",
              "      <td>120</td>\n",
              "      <td>189</td>\n",
              "      <td>180</td>\n",
              "      <td>160</td>\n",
              "      <td>188</td>\n",
              "      <td>82</td>\n",
              "      <td>82</td>\n",
              "      <td>31</td>\n",
              "      <td>53</td>\n",
              "      <td>80</td>\n",
              "      <td>31</td>\n",
              "      <td>153</td>\n",
              "      <td>49</td>\n",
              "      <td>191</td>\n",
              "    </tr>\n",
              "    <tr>\n",
              "      <th>3231</th>\n",
              "      <td>train3231.jpg</td>\n",
              "      <td>95</td>\n",
              "      <td>182</td>\n",
              "      <td>148</td>\n",
              "      <td>156</td>\n",
              "      <td>121</td>\n",
              "      <td>91</td>\n",
              "      <td>76</td>\n",
              "      <td>41</td>\n",
              "      <td>41</td>\n",
              "      <td>96</td>\n",
              "      <td>32</td>\n",
              "      <td>151</td>\n",
              "      <td>50</td>\n",
              "      <td>181</td>\n",
              "    </tr>\n",
              "  </tbody>\n",
              "</table>\n",
              "</div>\n",
              "      <button class=\"colab-df-convert\" onclick=\"convertToInteractive('df-d7b920f6-db40-419f-9422-539dc81bfd9e')\"\n",
              "              title=\"Convert this dataframe to an interactive table.\"\n",
              "              style=\"display:none;\">\n",
              "        \n",
              "  <svg xmlns=\"http://www.w3.org/2000/svg\" height=\"24px\"viewBox=\"0 0 24 24\"\n",
              "       width=\"24px\">\n",
              "    <path d=\"M0 0h24v24H0V0z\" fill=\"none\"/>\n",
              "    <path d=\"M18.56 5.44l.94 2.06.94-2.06 2.06-.94-2.06-.94-.94-2.06-.94 2.06-2.06.94zm-11 1L8.5 8.5l.94-2.06 2.06-.94-2.06-.94L8.5 2.5l-.94 2.06-2.06.94zm10 10l.94 2.06.94-2.06 2.06-.94-2.06-.94-.94-2.06-.94 2.06-2.06.94z\"/><path d=\"M17.41 7.96l-1.37-1.37c-.4-.4-.92-.59-1.43-.59-.52 0-1.04.2-1.43.59L10.3 9.45l-7.72 7.72c-.78.78-.78 2.05 0 2.83L4 21.41c.39.39.9.59 1.41.59.51 0 1.02-.2 1.41-.59l7.78-7.78 2.81-2.81c.8-.78.8-2.07 0-2.86zM5.41 20L4 18.59l7.72-7.72 1.47 1.35L5.41 20z\"/>\n",
              "  </svg>\n",
              "      </button>\n",
              "      \n",
              "  <style>\n",
              "    .colab-df-container {\n",
              "      display:flex;\n",
              "      flex-wrap:wrap;\n",
              "      gap: 12px;\n",
              "    }\n",
              "\n",
              "    .colab-df-convert {\n",
              "      background-color: #E8F0FE;\n",
              "      border: none;\n",
              "      border-radius: 50%;\n",
              "      cursor: pointer;\n",
              "      display: none;\n",
              "      fill: #1967D2;\n",
              "      height: 32px;\n",
              "      padding: 0 0 0 0;\n",
              "      width: 32px;\n",
              "    }\n",
              "\n",
              "    .colab-df-convert:hover {\n",
              "      background-color: #E2EBFA;\n",
              "      box-shadow: 0px 1px 2px rgba(60, 64, 67, 0.3), 0px 1px 3px 1px rgba(60, 64, 67, 0.15);\n",
              "      fill: #174EA6;\n",
              "    }\n",
              "\n",
              "    [theme=dark] .colab-df-convert {\n",
              "      background-color: #3B4455;\n",
              "      fill: #D2E3FC;\n",
              "    }\n",
              "\n",
              "    [theme=dark] .colab-df-convert:hover {\n",
              "      background-color: #434B5C;\n",
              "      box-shadow: 0px 1px 3px 1px rgba(0, 0, 0, 0.15);\n",
              "      filter: drop-shadow(0px 1px 2px rgba(0, 0, 0, 0.3));\n",
              "      fill: #FFFFFF;\n",
              "    }\n",
              "  </style>\n",
              "\n",
              "      <script>\n",
              "        const buttonEl =\n",
              "          document.querySelector('#df-d7b920f6-db40-419f-9422-539dc81bfd9e button.colab-df-convert');\n",
              "        buttonEl.style.display =\n",
              "          google.colab.kernel.accessAllowed ? 'block' : 'none';\n",
              "\n",
              "        async function convertToInteractive(key) {\n",
              "          const element = document.querySelector('#df-d7b920f6-db40-419f-9422-539dc81bfd9e');\n",
              "          const dataTable =\n",
              "            await google.colab.kernel.invokeFunction('convertToInteractive',\n",
              "                                                     [key], {});\n",
              "          if (!dataTable) return;\n",
              "\n",
              "          const docLinkHtml = 'Like what you see? Visit the ' +\n",
              "            '<a target=\"_blank\" href=https://colab.research.google.com/notebooks/data_table.ipynb>data table notebook</a>'\n",
              "            + ' to learn more about interactive tables.';\n",
              "          element.innerHTML = '';\n",
              "          dataTable['output_type'] = 'display_data';\n",
              "          await google.colab.output.renderOutput(dataTable, element);\n",
              "          const docLink = document.createElement('div');\n",
              "          docLink.innerHTML = docLinkHtml;\n",
              "          element.appendChild(docLink);\n",
              "        }\n",
              "      </script>\n",
              "    </div>\n",
              "  </div>\n",
              "  "
            ]
          },
          "metadata": {},
          "execution_count": 8
        }
      ],
      "source": [
        "train_df.sample(n=5)"
      ]
    },
    {
      "cell_type": "markdown",
      "id": "842b9bf8",
      "metadata": {
        "papermill": {
          "duration": 0.010476,
          "end_time": "2023-03-12T00:20:36.450924",
          "exception": false,
          "start_time": "2023-03-12T00:20:36.440448",
          "status": "completed"
        },
        "tags": [],
        "id": "842b9bf8"
      },
      "source": [
        "Sample rows from the action dataset"
      ]
    },
    {
      "cell_type": "code",
      "execution_count": null,
      "id": "4e594d18",
      "metadata": {
        "execution": {
          "iopub.execute_input": "2023-03-12T00:20:36.473846Z",
          "iopub.status.busy": "2023-03-12T00:20:36.473245Z",
          "iopub.status.idle": "2023-03-12T00:20:36.486930Z",
          "shell.execute_reply": "2023-03-12T00:20:36.485891Z"
        },
        "id": "4e594d18",
        "outputId": "cee725d7-502a-4f0c-bc86-6cc9e2f23466",
        "papermill": {
          "duration": 0.02778,
          "end_time": "2023-03-12T00:20:36.489313",
          "exception": false,
          "start_time": "2023-03-12T00:20:36.461533",
          "status": "completed"
        },
        "tags": [],
        "colab": {
          "base_uri": "https://localhost:8080/",
          "height": 201
        }
      },
      "outputs": [
        {
          "output_type": "execute_result",
          "data": {
            "text/plain": [
              "              0    1    2    3    4    5    6    7   8   9    10  11   12  \\\n",
              "15  namaste6.jpg  140  149  191  198  162  108  120  54  67  107  59  195   \n",
              "11  namaste2.jpg  136  142  204  185  181  111  114  52  55  110  33  185   \n",
              "16  namaste7.jpg  107  134  201  170  189  101   99  46  53  104  14  175   \n",
              "6     hello7.jpg  184  188  168  137  153   96  120  67  84   92  69   70   \n",
              "13  namaste4.jpg  115  110  165  155  164   91  112  65  61   92  48  157   \n",
              "\n",
              "     13   14       15  \n",
              "15  114  142  Namaste  \n",
              "11  113  145  Namaste  \n",
              "16   80  138  Namaste  \n",
              "6    76   25    Hello  \n",
              "13   94  117  Namaste  "
            ],
            "text/html": [
              "\n",
              "  <div id=\"df-4a047736-be03-44b0-b182-b7f877c6a226\">\n",
              "    <div class=\"colab-df-container\">\n",
              "      <div>\n",
              "<style scoped>\n",
              "    .dataframe tbody tr th:only-of-type {\n",
              "        vertical-align: middle;\n",
              "    }\n",
              "\n",
              "    .dataframe tbody tr th {\n",
              "        vertical-align: top;\n",
              "    }\n",
              "\n",
              "    .dataframe thead th {\n",
              "        text-align: right;\n",
              "    }\n",
              "</style>\n",
              "<table border=\"1\" class=\"dataframe\">\n",
              "  <thead>\n",
              "    <tr style=\"text-align: right;\">\n",
              "      <th></th>\n",
              "      <th>0</th>\n",
              "      <th>1</th>\n",
              "      <th>2</th>\n",
              "      <th>3</th>\n",
              "      <th>4</th>\n",
              "      <th>5</th>\n",
              "      <th>6</th>\n",
              "      <th>7</th>\n",
              "      <th>8</th>\n",
              "      <th>9</th>\n",
              "      <th>10</th>\n",
              "      <th>11</th>\n",
              "      <th>12</th>\n",
              "      <th>13</th>\n",
              "      <th>14</th>\n",
              "      <th>15</th>\n",
              "    </tr>\n",
              "  </thead>\n",
              "  <tbody>\n",
              "    <tr>\n",
              "      <th>15</th>\n",
              "      <td>namaste6.jpg</td>\n",
              "      <td>140</td>\n",
              "      <td>149</td>\n",
              "      <td>191</td>\n",
              "      <td>198</td>\n",
              "      <td>162</td>\n",
              "      <td>108</td>\n",
              "      <td>120</td>\n",
              "      <td>54</td>\n",
              "      <td>67</td>\n",
              "      <td>107</td>\n",
              "      <td>59</td>\n",
              "      <td>195</td>\n",
              "      <td>114</td>\n",
              "      <td>142</td>\n",
              "      <td>Namaste</td>\n",
              "    </tr>\n",
              "    <tr>\n",
              "      <th>11</th>\n",
              "      <td>namaste2.jpg</td>\n",
              "      <td>136</td>\n",
              "      <td>142</td>\n",
              "      <td>204</td>\n",
              "      <td>185</td>\n",
              "      <td>181</td>\n",
              "      <td>111</td>\n",
              "      <td>114</td>\n",
              "      <td>52</td>\n",
              "      <td>55</td>\n",
              "      <td>110</td>\n",
              "      <td>33</td>\n",
              "      <td>185</td>\n",
              "      <td>113</td>\n",
              "      <td>145</td>\n",
              "      <td>Namaste</td>\n",
              "    </tr>\n",
              "    <tr>\n",
              "      <th>16</th>\n",
              "      <td>namaste7.jpg</td>\n",
              "      <td>107</td>\n",
              "      <td>134</td>\n",
              "      <td>201</td>\n",
              "      <td>170</td>\n",
              "      <td>189</td>\n",
              "      <td>101</td>\n",
              "      <td>99</td>\n",
              "      <td>46</td>\n",
              "      <td>53</td>\n",
              "      <td>104</td>\n",
              "      <td>14</td>\n",
              "      <td>175</td>\n",
              "      <td>80</td>\n",
              "      <td>138</td>\n",
              "      <td>Namaste</td>\n",
              "    </tr>\n",
              "    <tr>\n",
              "      <th>6</th>\n",
              "      <td>hello7.jpg</td>\n",
              "      <td>184</td>\n",
              "      <td>188</td>\n",
              "      <td>168</td>\n",
              "      <td>137</td>\n",
              "      <td>153</td>\n",
              "      <td>96</td>\n",
              "      <td>120</td>\n",
              "      <td>67</td>\n",
              "      <td>84</td>\n",
              "      <td>92</td>\n",
              "      <td>69</td>\n",
              "      <td>70</td>\n",
              "      <td>76</td>\n",
              "      <td>25</td>\n",
              "      <td>Hello</td>\n",
              "    </tr>\n",
              "    <tr>\n",
              "      <th>13</th>\n",
              "      <td>namaste4.jpg</td>\n",
              "      <td>115</td>\n",
              "      <td>110</td>\n",
              "      <td>165</td>\n",
              "      <td>155</td>\n",
              "      <td>164</td>\n",
              "      <td>91</td>\n",
              "      <td>112</td>\n",
              "      <td>65</td>\n",
              "      <td>61</td>\n",
              "      <td>92</td>\n",
              "      <td>48</td>\n",
              "      <td>157</td>\n",
              "      <td>94</td>\n",
              "      <td>117</td>\n",
              "      <td>Namaste</td>\n",
              "    </tr>\n",
              "  </tbody>\n",
              "</table>\n",
              "</div>\n",
              "      <button class=\"colab-df-convert\" onclick=\"convertToInteractive('df-4a047736-be03-44b0-b182-b7f877c6a226')\"\n",
              "              title=\"Convert this dataframe to an interactive table.\"\n",
              "              style=\"display:none;\">\n",
              "        \n",
              "  <svg xmlns=\"http://www.w3.org/2000/svg\" height=\"24px\"viewBox=\"0 0 24 24\"\n",
              "       width=\"24px\">\n",
              "    <path d=\"M0 0h24v24H0V0z\" fill=\"none\"/>\n",
              "    <path d=\"M18.56 5.44l.94 2.06.94-2.06 2.06-.94-2.06-.94-.94-2.06-.94 2.06-2.06.94zm-11 1L8.5 8.5l.94-2.06 2.06-.94-2.06-.94L8.5 2.5l-.94 2.06-2.06.94zm10 10l.94 2.06.94-2.06 2.06-.94-2.06-.94-.94-2.06-.94 2.06-2.06.94z\"/><path d=\"M17.41 7.96l-1.37-1.37c-.4-.4-.92-.59-1.43-.59-.52 0-1.04.2-1.43.59L10.3 9.45l-7.72 7.72c-.78.78-.78 2.05 0 2.83L4 21.41c.39.39.9.59 1.41.59.51 0 1.02-.2 1.41-.59l7.78-7.78 2.81-2.81c.8-.78.8-2.07 0-2.86zM5.41 20L4 18.59l7.72-7.72 1.47 1.35L5.41 20z\"/>\n",
              "  </svg>\n",
              "      </button>\n",
              "      \n",
              "  <style>\n",
              "    .colab-df-container {\n",
              "      display:flex;\n",
              "      flex-wrap:wrap;\n",
              "      gap: 12px;\n",
              "    }\n",
              "\n",
              "    .colab-df-convert {\n",
              "      background-color: #E8F0FE;\n",
              "      border: none;\n",
              "      border-radius: 50%;\n",
              "      cursor: pointer;\n",
              "      display: none;\n",
              "      fill: #1967D2;\n",
              "      height: 32px;\n",
              "      padding: 0 0 0 0;\n",
              "      width: 32px;\n",
              "    }\n",
              "\n",
              "    .colab-df-convert:hover {\n",
              "      background-color: #E2EBFA;\n",
              "      box-shadow: 0px 1px 2px rgba(60, 64, 67, 0.3), 0px 1px 3px 1px rgba(60, 64, 67, 0.15);\n",
              "      fill: #174EA6;\n",
              "    }\n",
              "\n",
              "    [theme=dark] .colab-df-convert {\n",
              "      background-color: #3B4455;\n",
              "      fill: #D2E3FC;\n",
              "    }\n",
              "\n",
              "    [theme=dark] .colab-df-convert:hover {\n",
              "      background-color: #434B5C;\n",
              "      box-shadow: 0px 1px 3px 1px rgba(0, 0, 0, 0.15);\n",
              "      filter: drop-shadow(0px 1px 2px rgba(0, 0, 0, 0.3));\n",
              "      fill: #FFFFFF;\n",
              "    }\n",
              "  </style>\n",
              "\n",
              "      <script>\n",
              "        const buttonEl =\n",
              "          document.querySelector('#df-4a047736-be03-44b0-b182-b7f877c6a226 button.colab-df-convert');\n",
              "        buttonEl.style.display =\n",
              "          google.colab.kernel.accessAllowed ? 'block' : 'none';\n",
              "\n",
              "        async function convertToInteractive(key) {\n",
              "          const element = document.querySelector('#df-4a047736-be03-44b0-b182-b7f877c6a226');\n",
              "          const dataTable =\n",
              "            await google.colab.kernel.invokeFunction('convertToInteractive',\n",
              "                                                     [key], {});\n",
              "          if (!dataTable) return;\n",
              "\n",
              "          const docLinkHtml = 'Like what you see? Visit the ' +\n",
              "            '<a target=\"_blank\" href=https://colab.research.google.com/notebooks/data_table.ipynb>data table notebook</a>'\n",
              "            + ' to learn more about interactive tables.';\n",
              "          element.innerHTML = '';\n",
              "          dataTable['output_type'] = 'display_data';\n",
              "          await google.colab.output.renderOutput(dataTable, element);\n",
              "          const docLink = document.createElement('div');\n",
              "          docLink.innerHTML = docLinkHtml;\n",
              "          element.appendChild(docLink);\n",
              "        }\n",
              "      </script>\n",
              "    </div>\n",
              "  </div>\n",
              "  "
            ]
          },
          "metadata": {},
          "execution_count": 9
        }
      ],
      "source": [
        "actions_df.sample(n=5)"
      ]
    },
    {
      "cell_type": "markdown",
      "id": "f3e12568",
      "metadata": {
        "papermill": {
          "duration": 0.010771,
          "end_time": "2023-03-12T00:20:36.511090",
          "exception": false,
          "start_time": "2023-03-12T00:20:36.500319",
          "status": "completed"
        },
        "tags": [],
        "id": "f3e12568"
      },
      "source": [
        "**Step by Step explaination for the below code:**\n",
        "1.  `img_pose = cv2.imread(train_imgs + '/train100.jpg')`: Using the `imread()` method from the cv2 library, this line loads an image named `train100.jpg` from the 'train imgs' directory. The image is assigned to the variable `img_pose`.\n",
        "2.  `img_pose = cv2.cvtColor(img_pose, cv2.COLOR_BGR2RGB)`: Using the `cvtColor()` function, this line changes the colour space of the `img pose` image from BGR to RGB.\n",
        "3.  `cord_pose = train_df.iloc[100,1:].values`: This line reads a row from a pandas DataFrame named `train_df` at index 100 and picks all columns beginning with the second. The values obtained are given to the `cord_pose` variable.\n",
        "4.  `x_pose = []; y_pose = []`: This line creates two empty lists to contain the x and y coordinates of the picture `img_pose`.\n",
        "5.  `for i in range(0, len(cord_pose), 2):`:This line starts a for loop that iterates through the `cord_pose` values in 2 step increments.\n",
        "6.  `x_pose.append(cord_pose[i])`: This line adds the i-th value from 'cord pose' to the list of `x_pose`.\n",
        "7.  `y_pose.append(cord_pose[i+1])`: This line adds the (i+1)-th value from 'cord_pose' to the list of `y_pose`.\n",
        "8. The x and y coordinates from the `cord_pose` variable are extracted and stored in separate lists, `x_pose` and `y_pose`, as shown in steps 5-7.\n",
        "9.  `img_action = cv2.imread(action_imgs + '/hello_test.jpg')`: This line uses the `imread()` method from the cv2 library to load an image from the `action_imgs` directory with the file name `hello_test.jpg`. The picture is assigned to the variable `img_action`.\n",
        "10.  `img_action = cv2.cvtColor(img_action, cv2.COLOR_BGR2RGB)`: Using the `cvtColor()` function, this line transforms the colour space of the `img_action` picture from BGR to RGB.\n",
        "11.  `cord_action = actions_df.iloc[20,1:-1].values`: This line reads a row from a pandas DataFrame `actions_df` at index 20 and picks all columns beginning with the second and ending with the second to last. The data obtained are assigned to the `cord_action` variable.\n",
        "12.  `x_action = []; y_action = []`: This line creates two empty lists to record the x and y coordinates of the picture `img_action`.\n",
        "13.  `for i in range(0,len(cord_action), 2):`: This line creates two empty lists to record the x and y coordinates of the picture `img_action`.\n",
        "14.  `x_action.append(cord_action[i])`: This line adds the i-th value from 'cord action' to the list of `x_action`.\n",
        "15.  `y_action.append(cord_action[i+1])`: This line adds the (i+1)-th value from `cord_action` to the list of `y_action`. Steps 13-15 retrieve the x and y coordinates from the `cord_action`."
      ]
    },
    {
      "cell_type": "code",
      "execution_count": null,
      "id": "02d80434",
      "metadata": {
        "execution": {
          "iopub.execute_input": "2023-03-12T00:20:36.534326Z",
          "iopub.status.busy": "2023-03-12T00:20:36.534055Z",
          "iopub.status.idle": "2023-03-12T00:20:36.862327Z",
          "shell.execute_reply": "2023-03-12T00:20:36.861474Z"
        },
        "id": "02d80434",
        "outputId": "b0598c67-febd-4566-bb69-a442d7deedbb",
        "papermill": {
          "duration": 0.345755,
          "end_time": "2023-03-12T00:20:36.867998",
          "exception": false,
          "start_time": "2023-03-12T00:20:36.522243",
          "status": "completed"
        },
        "tags": [],
        "colab": {
          "base_uri": "https://localhost:8080/",
          "height": 304
        }
      },
      "outputs": [
        {
          "output_type": "display_data",
          "data": {
            "text/plain": [
              "<Figure size 720x360 with 2 Axes>"
            ],
            "image/png": "[encoded data removed]"
          },
          "metadata": {
            "needs_background": "light"
          }
        }
      ],
      "source": [
        "# Load pose image and coordinates\n",
        "img_pose = cv2.imread(train_imgs + '/train100.jpg')\n",
        "img_pose = cv2.cvtColor(img_pose, cv2.COLOR_BGR2RGB)\n",
        "cord_pose = train_df.iloc[100,1:].values\n",
        "x_pose = []; y_pose = []\n",
        "for i in range(0, len(cord_pose), 2):\n",
        "    x_pose.append(cord_pose[i])\n",
        "    y_pose.append(cord_pose[i+1])\n",
        "\n",
        "# Load action image and coordinates\n",
        "img_action = cv2.imread(action_imgs + '/hello_test.jpg')\n",
        "img_action = cv2.cvtColor(img_action, cv2.COLOR_BGR2RGB)\n",
        "cord_action = actions_df.iloc[20,1:-1].values\n",
        "x_action = []; y_action = []\n",
        "for i in range(0,len(cord_action), 2):\n",
        "    x_action.append(cord_action[i])\n",
        "    y_action.append(cord_action[i+1])\n",
        "\n",
        "# Plot side by side\n",
        "fig, axs = plt.subplots(1, 2, figsize=(10,5))\n",
        "axs[0].imshow(img_pose)\n",
        "axs[0].plot(x_pose, y_pose, 'o-')\n",
        "axs[0].grid(False)\n",
        "axs[0].axis(False)\n",
        "axs[0].set_title('Pose', size=17)\n",
        "\n",
        "axs[1].imshow(img_action)\n",
        "axs[1].plot(x_action, y_action, 'o-')\n",
        "axs[1].grid(False)\n",
        "axs[1].axis(False)\n",
        "axs[1].set_title(actions_df.iloc[0,-1], size=17)\n",
        "\n",
        "plt.show()"
      ]
    },
    {
      "cell_type": "markdown",
      "id": "d8ee6dc1",
      "metadata": {
        "id": "d8ee6dc1",
        "papermill": {
          "duration": 0.015595,
          "end_time": "2023-03-12T00:20:36.899619",
          "exception": false,
          "start_time": "2023-03-12T00:20:36.884024",
          "status": "completed"
        },
        "tags": []
      },
      "source": [
        "## <h2 id=\"section-1\"> 1. Convolution Neural Network (CNN) based Pose Estimation model </h2>\n"
      ]
    },
    {
      "cell_type": "markdown",
      "source": [
        "\n",
        "1. Implementation of CNN based Pose Estimation model\n",
        "\n",
        "The below code contains two functions `pose_estimation_dataset()` and `action_rec_dataset()` that prepare data for two different tasks. Here's the explanation of the code step by step:\n",
        "\n",
        "1.  `pose_estimation_dataset(batch_size=40, target_size=(224, 224))`: This function gets data ready for the pose estimation job. It accepts two arguments, `batch size` and `target size`. These options have default values of `40` and `(224,224)`, respectively. It makes advantage of Keras `ImageDataGenerator()` class to produce batches of tensor image data with real-time data augmentation. Using a validation split of `0.1,` the generator divides the training data into training and validation sets. The flow from dataframe() function is then used to construct the training, validation, and test data generators. The `train` and `valid` generators use training and validation data from a pandas dataframe called `train df,` which comprises picture paths in the first column and 14 posture keypoints in the following columns. The data for the `test` generator is taken from another pandas dataframe called `test df,` which comprises picture paths in the first column and 14 posture keypoints in the following columns.\n",
        "    \n",
        "2.  `action_rec_dataset()`: This function prepares data for the job of action recognition. It accepts no arguments as input. It reads the `actions df` pandas dataframe, which includes features in columns 1 to n-1 and the target variable in the last column. It distinguishes between the characteristics `x` and the target variable `y`. To encode the target variable, it employs scikit-`OneHotEncoder()` learn's class. The data is then separated into training and validation sets using scikit-`train test split()` learn`s method. It returns the values `x train,` `y train, `x val`, and the encoder `enc`."
      ],
      "metadata": {
        "id": "9gAXk4KI77IW"
      },
      "id": "9gAXk4KI77IW"
    },
    {
      "cell_type": "code",
      "execution_count": null,
      "id": "85097541",
      "metadata": {
        "execution": {
          "iopub.execute_input": "2023-03-12T00:20:36.932187Z",
          "iopub.status.busy": "2023-03-12T00:20:36.931885Z",
          "iopub.status.idle": "2023-03-12T00:20:36.941537Z",
          "shell.execute_reply": "2023-03-12T00:20:36.940471Z"
        },
        "id": "85097541",
        "papermill": {
          "duration": 0.02814,
          "end_time": "2023-03-12T00:20:36.943583",
          "exception": false,
          "start_time": "2023-03-12T00:20:36.915443",
          "status": "completed"
        },
        "tags": []
      },
      "outputs": [],
      "source": [
        "def pose_estimation_dataset(batch_size=40, target_size=(224, 224), ):\n",
        "    generator = ImageDataGenerator(validation_split=0.10)\n",
        "\n",
        "    train = generator.flow_from_dataframe(train_df, directory=train_imgs, batch_size=batch_size,\n",
        "                                 target_size=target_size, x_col=0,\n",
        "                                 y_col=list(np.arange(1,15,1)), class_mode= 'raw',\n",
        "                                 subset=\"training\")\n",
        "    valid = generator.flow_from_dataframe(train_df, directory=train_imgs, batch_size=batch_size,\n",
        "                                        target_size=target_size, x_col=0,\n",
        "                                        y_col=list(np.arange(1,15,1)), class_mode= 'raw',\n",
        "                                        subset=\"validation\")\n",
        "    generator = ImageDataGenerator()\n",
        "    test = generator.flow_from_dataframe(test_df, directory=test_imgs, x_col=0,\n",
        "                                         y_col=list(np.arange(1,15,1)), class_mode= 'raw',\n",
        "                                         target_size=target_size, batch_size=batch_size)\n",
        "    print(\"[INFO] Prepareing the data ...\")\n",
        "    return train, valid, test\n",
        "\n",
        "def action_rec_dataset():\n",
        "    actions_df.columns = list(range(df.shape[1]))\n",
        "    x = actions_df.iloc[:, 1:-1]\n",
        "    y = actions_df.iloc[:, -1].values.reshape(-1,1)\n",
        "\n",
        "    enc = OneHotEncoder()\n",
        "\n",
        "    y = enc.fit_transform(y).toarray()\n",
        "    x_train, x_val, y_train, y_val = train_test_split(x,y, test_size= 0.1)\n",
        "\n",
        "    print(\"[INFO] Prepareing the data ...\")\n",
        "    return x_train, y_train, x_val, y_val, enc"
      ]
    },
    {
      "cell_type": "markdown",
      "id": "ad9382e1",
      "metadata": {
        "papermill": {
          "duration": 0.015181,
          "end_time": "2023-03-12T00:20:36.974075",
          "exception": false,
          "start_time": "2023-03-12T00:20:36.958894",
          "status": "completed"
        },
        "tags": [],
        "id": "ad9382e1"
      },
      "source": [
        "The below code defines two functions in Python:\n",
        "\n",
        "1.  `coeff_determination(y_true, y_pred)`: The coefficient of determination, often known as R², is a statistical metric that quantifies the percentage of the variation in the dependent variable that is predicted from the independent variable (s). The function accepts two parameters, `y true` and `y pred,` which indicate the true and anticipated values of the dependent variable. The function uses the following formula to calculate R²:\n",
        "    \n",
        "    ```python\n",
        "    SS_res =  K.sum(K.square(y_true-y_pred))\n",
        "    SS_tot = K.sum(K.square(y_true - K.mean(y_true)))\n",
        "    return (1 - SS_res/(SS_tot + K.epsilon()))\n",
        "```\n",
        "    \n",
        "    where `SS_res` denotes the residual sum of squares, `SS_tot` the total sum of squares, and `K` the Keras backend (a deep learning library). The residual sum of squares represents the amount of variation that the regression model does not explain, while the total sum of squares represents the entire amount of variance in the dependent variable. R2 is determined as 1 minus the residual sum of squares to total sum of squares ratio.\n",
        "    \n",
        "2.  `log(string)`: This function prints a string in blue color as a Markdown blockquote. The function takes in a single argument `string`, which represents the text that needs to be printed. The function uses the following code to print the string:\n",
        "    \n",
        "    ```python\n",
        "    display(Markdown(\"> <span style='color:blue'>\"+string+\"</span>\"))\n",
        "    ```\n",
        "    \n",
        "    The code creates a Markdown blockquote using the `>` symbol and adds the string in blue color using HTML `<span>` tags with a `style` attribute that sets the color to blue. The `display()` function is used to display the Markdown blockquote in the output."
      ]
    },
    {
      "cell_type": "code",
      "execution_count": null,
      "id": "b8ddd594",
      "metadata": {
        "execution": {
          "iopub.execute_input": "2023-03-12T00:20:37.006600Z",
          "iopub.status.busy": "2023-03-12T00:20:37.005796Z",
          "iopub.status.idle": "2023-03-12T00:20:37.011736Z",
          "shell.execute_reply": "2023-03-12T00:20:37.010873Z"
        },
        "id": "b8ddd594",
        "papermill": {
          "duration": 0.024394,
          "end_time": "2023-03-12T00:20:37.013777",
          "exception": false,
          "start_time": "2023-03-12T00:20:36.989383",
          "status": "completed"
        },
        "tags": []
      },
      "outputs": [],
      "source": [
        "def coeff_determination(y_true, y_pred):\n",
        "    SS_res =  K.sum(K.square(y_true-y_pred))\n",
        "    SS_tot = K.sum(K.square(y_true - K.mean(y_true)))\n",
        "    return (1 - SS_res/(SS_tot + K.epsilon()))\n",
        "\n",
        "def log(string):\n",
        "    display(Markdown(\"> <span style='color:blue'>\"+string+\"</span>\"))"
      ]
    },
    {
      "cell_type": "markdown",
      "id": "b88a2282",
      "metadata": {
        "papermill": {
          "duration": 0.015267,
          "end_time": "2023-03-12T00:20:37.044303",
          "exception": false,
          "start_time": "2023-03-12T00:20:37.029036",
          "status": "completed"
        },
        "tags": [],
        "id": "b88a2282"
      },
      "source": [
        "The below code defines two functions - `top_model` and `create_model`.\n",
        "\n",
        "### Function 1: `top_model(ns, conv_base)`\n",
        "\n",
        "This function defines the architecture of the top layer of the model. It takes two arguments:\n",
        "\n",
        "*   `ns`: an integer that determines the number of output classes by dividing 14 by `ns`.\n",
        "*   `conv_base`: the pre-trained convolutional base model (VGG16 in this case).\n",
        "\n",
        "Here are the steps that the function performs:\n",
        "\n",
        "1.  Create a new sequential model `t_ml`.\n",
        "2.  Add a `Conv2D` layer with 64 filters of size 3x3, `relu` activation function, and `same` padding. The input shape of this layer is the output shape of `conv_base` (minus the batch dimension).\n",
        "3.  Add a `BatchNormalization` layer to normalize the output of the previous layer.\n",
        "4.  Add a `MaxPooling2D` layer with pool size of 2x2 and stride of 1x1.\n",
        "5.  Add a `Flatten` layer to flatten the output of the previous layer.\n",
        "6.  Add a `Dense` layer with 4096 units and `relu` activation function.\n",
        "7.  Add another `BatchNormalization` layer.\n",
        "8.  Add a `Dropout` layer with a rate of 0.5 to randomly drop 50% of the previous layer's output.\n",
        "9.  Add a final `Dense` layer with the number of units equal to 14 divided by `ns` and `relu` activation function.\n",
        "10.  Create a new sequential model `model`.\n",
        "11.  Add all layers from the `conv_base` model to the `model`.\n",
        "12.  Add the `top_model` defined in steps 1-9 as the final layer of `model`.\n",
        "13.  Return `model`.\n",
        "\n",
        "### Function 2: `create_model(n, conv_base)`\n",
        "\n",
        "This function creates a new model by stacking `n` instances of the `top_model` defined in the previous function. It takes two arguments:\n",
        "\n",
        "*   `n`: an integer that determines the number of times to stack the `top_model`.\n",
        "*   `conv_base`: the pre-trained convolutional base model (VGG16 in this case).\n",
        "\n",
        "Here are the steps that the function performs:\n",
        "\n",
        "1.  Create an empty list `outputs`.\n",
        "2.  Loop through integers from 1 to `n`.\n",
        "3.  Create a new `top_model` with `ns` equal to `n` and `conv_base` equal to the input argument.\n",
        "4.  Store the output of the final layer of this `top_model` in a variable with a dynamically generated name using the integer value of the loop index.\n",
        "5.  Append this output variable to the `outputs` list.\n",
        "6.  After the loop, add all output variables in the `outputs` list using the `add` layer.\n",
        "7.  Add a final `Dense` layer with 14 units and `relu` activation function, initialized with a matrix of ones.\n",
        "8.  Create a new model `final_model` with the input as the input of `conv_base` and output as the output of step 7.\n",
        "9.  Return `final_model`."
      ]
    },
    {
      "cell_type": "code",
      "execution_count": null,
      "id": "385b2214",
      "metadata": {
        "execution": {
          "iopub.execute_input": "2023-03-12T00:20:37.077027Z",
          "iopub.status.busy": "2023-03-12T00:20:37.076316Z",
          "iopub.status.idle": "2023-03-12T00:20:37.084988Z",
          "shell.execute_reply": "2023-03-12T00:20:37.083965Z"
        },
        "id": "385b2214",
        "papermill": {
          "duration": 0.027114,
          "end_time": "2023-03-12T00:20:37.087018",
          "exception": false,
          "start_time": "2023-03-12T00:20:37.059904",
          "status": "completed"
        },
        "tags": []
      },
      "outputs": [],
      "source": [
        "#Creating additional architecture\n",
        "def top_model(ns, conv_base):\n",
        "    t_ml = Sequential()\n",
        "    t_ml.add(Conv2D(64,(3,3), activation='relu', padding = 'same',\n",
        "                        input_shape=conv_base.output_shape[1:]))\n",
        "    t_ml.add(BatchNormalization())\n",
        "    t_ml.add(MaxPool2D(pool_size=(2,2), strides=(1,1)))\n",
        "    t_ml.add(Flatten())\n",
        "    t_ml.add(Dense(4096, activation='relu'))\n",
        "    t_ml.add(BatchNormalization())\n",
        "    t_ml.add(Dropout(0.5))\n",
        "    t_ml.add(Dense(14//ns, activation='relu'))  #for ns =2 it will be 14//2 == 7\n",
        "    # Creating a final model based on VGG16 and additional architecture\n",
        "    model = Sequential()\n",
        "    for layer in conv_base.layers:\n",
        "        model.add(layer)\n",
        "    model.add(t_ml)\n",
        "    return model\n",
        "\n",
        "def create_model(n, conv_base):\n",
        "    outputs=[]\n",
        "    for i in range(1,n+1):\n",
        "        globals()[f'model_{i}'] = top_model(n, conv_base)\n",
        "        outputs.append(globals()[f'model_{i}'].output)\n",
        "    merged= add(outputs)\n",
        "    output= Dense(14, activation='relu', kernel_initializer= 'Ones')(merged)\n",
        "    final_model = Model(inputs= conv_base.input, outputs= output)\n",
        "    return final_model"
      ]
    },
    {
      "cell_type": "markdown",
      "id": "737a355d",
      "metadata": {
        "papermill": {
          "duration": 0.015359,
          "end_time": "2023-03-12T00:20:37.117730",
          "exception": false,
          "start_time": "2023-03-12T00:20:37.102371",
          "status": "completed"
        },
        "tags": [],
        "id": "737a355d"
      },
      "source": [
        "The below code defines a function called `VGG_CNN_model` that creates a Convolutional Neural Network (CNN) model using the VGG16 architecture pre-trained on the ImageNet dataset. Here's a step-by-step explanation of the code:\n",
        "  ```python\n",
        "  def VGG_CNN_model(input_shape=input_shape, model_save=True):\n",
        "    ```\n",
        "\n",
        "*   Define a function called `VGG_CNN_model` that takes two parameters: `input_shape` and `model_save`. `input_shape` is the shape of the input images to the model, which is set to a default value that is assumed to be defined elsewhere in the code. `model_save` is a boolean flag that indicates whether to save the untrained model to disk.\n",
        "  ```python\n",
        "      conv_base = VGG16(weights= 'imagenet', include_top= False, input_shape=input_shape)\n",
        "  ```\n",
        "\n",
        "*   Load the pre-trained VGG16 model from the Keras library with the pre-trained weights set to `imagenet`. The `include_top` parameter is set to `False` to exclude the fully connected layers at the top of the model, which will be replaced by custom layers specific to the problem at hand. The `input_shape` parameter is set to the value passed as the function parameter.\n",
        "\n",
        "  ```python\n",
        "  for layer in conv_base.layers:\n",
        "      layer.trainable= False\n",
        "  ```\n",
        "*   Set all the layers in the pre-trained VGG16 model to be untrainable, which prevents their weights from being updated during training.\n",
        "  ```python\n",
        "  ns=2\n",
        "  model = create_model(ns, conv_base)\n",
        "  ```\n",
        "\n",
        "*   Set the `ns` variable to 2, which determines the number of output neurons in the custom fully connected layer to be added to the model.\n",
        "*   Call a function called `create_model` with two parameters: `ns` and `conv_base`. This function creates a new model that consists of the pre-trained VGG16 model followed by a custom fully connected layer with `ns` output neurons.\n",
        "  ```python\n",
        "  if model_save:\n",
        "          model.save(f'{models_directory}/Untrained_Model.h5')\n",
        "          print(\"[INFO] Model is saved to 'Untrained_VGG_CNN_model.h5'\")\n",
        "          model=tf.keras.models.load_model(f'{models_directory}/Untrained_Model.h5')\n",
        "    ```\n",
        "\n",
        "*   If `model_save` is `True`, save the untrained model to a file named `Untrained_Model.h5` in a directory specified by `models_directory`.\n",
        "*   Print a message to confirm that the model has been saved.\n",
        "*   Load the untrained model back from disk, which creates a fresh copy of the model that can be trained independently of the original model.\n",
        "  ```python\n",
        "  return model\n",
        "  ```\n",
        "\n",
        "*   Return the newly created model object."
      ]
    },
    {
      "cell_type": "code",
      "execution_count": null,
      "id": "827264f6",
      "metadata": {
        "execution": {
          "iopub.execute_input": "2023-03-12T00:20:37.150648Z",
          "iopub.status.busy": "2023-03-12T00:20:37.149710Z",
          "iopub.status.idle": "2023-03-12T00:20:37.156298Z",
          "shell.execute_reply": "2023-03-12T00:20:37.155438Z"
        },
        "id": "827264f6",
        "papermill": {
          "duration": 0.025197,
          "end_time": "2023-03-12T00:20:37.158296",
          "exception": false,
          "start_time": "2023-03-12T00:20:37.133099",
          "status": "completed"
        },
        "tags": []
      },
      "outputs": [],
      "source": [
        "def VGG_CNN_model(input_shape=input_shape, model_save=True):\n",
        "    conv_base = VGG16(weights= 'imagenet', include_top= False, input_shape=input_shape)\n",
        "    for layer in conv_base.layers:\n",
        "        layer.trainable= False\n",
        "    ns=2\n",
        "    model = create_model(ns, conv_base)\n",
        "    #Save a copy and freshly import the model\n",
        "    if model_save:\n",
        "        model.save(f'{models_directory}/Untrained_Model.h5')\n",
        "        print(\"[INFO] Model is saved to 'Untrained_VGG_CNN_model.h5'\")\n",
        "        model=tf.keras.models.load_model(f'{models_directory}/Untrained_Model.h5')\n",
        "    return model"
      ]
    },
    {
      "cell_type": "markdown",
      "id": "86f738aa",
      "metadata": {
        "papermill": {
          "duration": 0.015287,
          "end_time": "2023-03-12T00:20:37.189009",
          "exception": false,
          "start_time": "2023-03-12T00:20:37.173722",
          "status": "completed"
        },
        "tags": [],
        "id": "86f738aa"
      },
      "source": [
        "The below code defines a function named `NN_model()` which takes one argument `model_save` that is a boolean flag to indicate whether to save the untrained model or not.\n",
        "\n",
        "\n",
        "1.  Define the function `NN_model()` which takes `model_save` as a parameter.\n",
        "```python\n",
        "def NN_model(model_save=True):\n",
        "```\n",
        "\n",
        "2.  Create a sequential model using `Sequential()`. A sequential model is a linear stack of layers.\n",
        "  ```python\n",
        "  `model = Sequential()\n",
        "  ```\n",
        "\n",
        "3.  Add a fully connected dense layer with 164 neurons, an input shape of 14, and activation function of `relu`. The `kernel_regularizer` parameter is set to 'l2' and `kernel_initializer` parameter is set to 'TruncatedNormal'.\n",
        "```python\n",
        "model.add(Dense(164, input_shape=[14], activation= 'relu', kernel_regularizer='l2', kernel_initializer='TruncatedNormal'))\n",
        "```\n",
        "\n",
        "4.  Add another fully connected dense layer with 164 neurons and `relu` activation function.\n",
        "```python\n",
        "model.add(Dense(164, activation='relu'))\n",
        "```\n",
        "\n",
        "5.  Add another fully connected dense layer with 1092 neurons and `relu` activation function.\n",
        "```python\n",
        "model.add(Dense(546*2, activation='relu'))\n",
        "```\n",
        "\n",
        "6.  Add a BatchNormalization layer to normalize the activations of the previous layer at each batch.\n",
        "```python\n",
        "model.add(BatchNormalization())\n",
        "```\n",
        "\n",
        "7.  Add a dropout layer with a dropout rate of 0.5 to prevent overfitting.\n",
        "```python\n",
        "model.add(Dropout(0.5))\n",
        "```\n",
        "\n",
        "8.  Add another fully connected dense layer with 14 neurons and `relu` activation function. The `kernel_regularizer` parameter is set to 'l2'.\n",
        "```python\n",
        "model.add(Dense(14, activation= 'relu', kernel_regularizer='l2'))\n",
        "```\n",
        "\n",
        "9.  Add another BatchNormalization layer to normalize the activations of the previous layer at each batch.\n",
        "```python\n",
        "model.add(BatchNormalization())\n",
        "```\n",
        "\n",
        "10.  Add a fully connected dense layer with 2 neurons and `sigmoid` activation function for binary classification.\n",
        "```python\n",
        "model.add(Dense(2, activation= 'sigmoid'))\n",
        "```\n",
        "\n",
        "11.  If `model_save` is True, save the untrained model in the models directory with the name `Untrained_Classification_Model.h5`. Then load the model and assign it to `model`.\n",
        "```python\n",
        "if model_save:     \n",
        "        model.save(f'{models_directory}/Untrained_Classification_Model.h5')     \n",
        "        print(\"[INFO] Model is saved to 'Untrained_Classification_Model.h5'\")    \n",
        "        model=tf.keras.models.load_model(f'{models_directory}/Untrained_Classification_Model.h5')\n",
        "    ````\n",
        "\n",
        "12.  Return the model.\n",
        "```python\n",
        "return model\n",
        "```\n",
        "\n",
        "The above code defines a Deep Neural Network based classification model with several dense layers, batch normalization, and dropout. The model has 14 input features and 2 output classes. It saves an untrained model if the `model_save` flag is set to True and then loads it back in."
      ]
    },
    {
      "cell_type": "code",
      "execution_count": null,
      "id": "01fa2555",
      "metadata": {
        "execution": {
          "iopub.execute_input": "2023-03-12T00:20:37.222107Z",
          "iopub.status.busy": "2023-03-12T00:20:37.221269Z",
          "iopub.status.idle": "2023-03-12T00:20:37.228651Z",
          "shell.execute_reply": "2023-03-12T00:20:37.227738Z"
        },
        "id": "01fa2555",
        "papermill": {
          "duration": 0.025848,
          "end_time": "2023-03-12T00:20:37.230652",
          "exception": false,
          "start_time": "2023-03-12T00:20:37.204804",
          "status": "completed"
        },
        "tags": []
      },
      "outputs": [],
      "source": [
        "def NN_model(model_save=True):\n",
        "    #Building a Deep Neural Network based classification model\n",
        "    model=Sequential()\n",
        "    model.add(Dense(164, input_shape=[14], activation= 'relu', kernel_regularizer='l2', kernel_initializer='TruncatedNormal'))\n",
        "    model.add(Dense(164, activation='relu'))\n",
        "    model.add(Dense(546*2, activation='relu'))\n",
        "    model.add(BatchNormalization())\n",
        "    model.add(Dropout(0.5))\n",
        "    model.add(Dense(14, activation= 'relu', kernel_regularizer='l2'))\n",
        "    model.add(BatchNormalization())\n",
        "    model.add(Dense(2, activation= 'sigmoid'))\n",
        "    #Save a copy of the untrained model\n",
        "    if model_save:\n",
        "        model.save(f'{models_directory}/Untrained_Classification_Model.h5')\n",
        "        print(\"[INFO] Model is saved to 'Untrained_Classification_Model.h5'\")\n",
        "        model=tf.keras.models.load_model(f'{models_directory}/Untrained_Classification_Model.h5')\n",
        "    return model"
      ]
    },
    {
      "cell_type": "markdown",
      "id": "ebef1475",
      "metadata": {
        "papermill": {
          "duration": 0.015465,
          "end_time": "2023-03-12T00:20:37.261743",
          "exception": false,
          "start_time": "2023-03-12T00:20:37.246278",
          "status": "completed"
        },
        "tags": [],
        "id": "ebef1475"
      },
      "source": [
        "### Strategy 1:\n",
        "2. Loading a pretrained base CNN architecture such as VGG16, MobileNet, removing the final softmax layer adding custom layers and training the newly added layers\n",
        "The below code has two main parts, let's break it down step by step:\n",
        "\n",
        "**Part 1: Loading the dataset**\n",
        "\n",
        "  ```python\n",
        "  train_data, val_data, test_data = pose_estimation_dataset(batch_size=40, target_size=(224, 224))\n",
        "  ```\n",
        "\n",
        "*   The `pose_estimation_dataset` function is called with two arguments: `batch_size` and `target_size`. This function likely loads a dataset for a pose estimation task, and returns three data generators: one for training data, one for validation data, and one for testing data.\n",
        "*   The `batch_size` argument specifies the number of samples per batch that will be used for training the model. In this case, `batch_size` is set to 40.\n",
        "*   The `target_size` argument specifies the desired input size for the model. In this case, it is set to (224, 224). This means that the input images to the model will be resized to 224x224 pixels before being fed into the model.\n",
        "*   The three data generators returned are `train_data`, `val_data`, and `test_data`, which will be used for training, validation, and testing respectively.\n",
        "\n",
        "**Part 2: Defining the model**\n",
        "  ```python\n",
        "  model = VGG_CNN_model(input_shape, True)\n",
        "  ```\n",
        "\n",
        "*   The `VGG_CNN_model` function is called with two arguments: `input_shape` and `True`.\n",
        "*   `input_shape` specifies the shape of the input images that the model will take as input. This should match the `target_size` that was specified when loading the dataset.\n",
        "*   `True` is passed as the second argument to `VGG_CNN_model`. This likely specifies whether to include the top layers (fully connected layers) in the model, or only the convolutional layers. In this case, it is set to `True`, so the fully connected layers will be included in the model.\n",
        "*   The model object is assigned to the variable `model`. This variable can be used to train and evaluate the model."
      ]
    },
    {
      "cell_type": "code",
      "execution_count": null,
      "id": "52fdfa71",
      "metadata": {
        "execution": {
          "iopub.execute_input": "2023-03-12T00:20:37.294147Z",
          "iopub.status.busy": "2023-03-12T00:20:37.293874Z",
          "iopub.status.idle": "2023-03-12T00:20:42.313652Z",
          "shell.execute_reply": "2023-03-12T00:20:42.312651Z"
        },
        "id": "52fdfa71",
        "outputId": "c64b8a7a-8c7a-4013-cba3-cf05882c18e8",
        "papermill": {
          "duration": 5.039217,
          "end_time": "2023-03-12T00:20:42.316562",
          "exception": false,
          "start_time": "2023-03-12T00:20:37.277345",
          "status": "completed"
        },
        "tags": [],
        "colab": {
          "base_uri": "https://localhost:8080/"
        }
      },
      "outputs": [
        {
          "output_type": "stream",
          "name": "stdout",
          "text": [
            "Found 3987 validated image filenames.\n",
            "Found 442 validated image filenames.\n",
            "Found 574 validated image filenames.\n",
            "[INFO] Prepareing the data ...\n",
            "Downloading data from https://storage.googleapis.com/tensorflow/keras-applications/vgg16/vgg16_weights_tf_dim_ordering_tf_kernels_notop.h5\n",
            "58889256/58889256 [==============================] - 0s 0us/step\n"
          ]
        },
        {
          "output_type": "stream",
          "name": "stderr",
          "text": [
            "WARNING:tensorflow:Compiled the loaded model, but the compiled metrics have yet to be built. `model.compile_metrics` will be empty until you train or evaluate the model.\n"
          ]
        },
        {
          "output_type": "stream",
          "name": "stdout",
          "text": [
            "[INFO] Model is saved to 'Untrained_VGG_CNN_model.h5'\n"
          ]
        },
        {
          "output_type": "stream",
          "name": "stderr",
          "text": [
            "WARNING:tensorflow:No training configuration found in the save file, so the model was *not* compiled. Compile it manually.\n"
          ]
        }
      ],
      "source": [
        "train_data, val_data, test_data = pose_estimation_dataset(batch_size=40, target_size=(224, 224))\n",
        "model = VGG_CNN_model(input_shape, True)"
      ]
    },
    {
      "cell_type": "markdown",
      "id": "75d8e85b",
      "metadata": {
        "papermill": {
          "duration": 0.016396,
          "end_time": "2023-03-12T00:20:42.350281",
          "exception": false,
          "start_time": "2023-03-12T00:20:42.333885",
          "status": "completed"
        },
        "tags": [],
        "id": "75d8e85b"
      },
      "source": [
        "The given code is using TensorFlow to train a neural network model with the following steps:\n",
        "\n",
        "\n",
        "1.  Defining the optimizer:\n",
        "  ```python\n",
        "  adam = tf.keras.optimizers.Adam(learning_rate=1e-2, beta_1=0.9, beta_2=0.999, amsgrad=True)\n",
        "  ```\n",
        "\n",
        "Here, the Adam optimizer is used with a learning rate of 0.01, beta1 value of 0.9, beta2 value of 0.999, and amsgrad set to True.\n",
        "\n",
        "2.  Defining the custom metric:\n",
        "  ```python\n",
        "  metrics = [coeff_determination] #using the custom R2 metric\n",
        "  ```\n",
        "\n",
        "The `coeff_determination` function is a custom metric for measuring the coefficient of determination (R2 score) during training.\n",
        "\n",
        "3.  Compiling the model:\n",
        "  ```python\n",
        "  model.compile(optimizer=adam, loss=mse,  metrics=metrics)\n",
        "  ```\n",
        "\n",
        "The model is compiled using the Adam optimizer, mean squared error (MSE) loss function, and custom R2 metric.\n",
        "\n",
        "4.  Defining the callbacks:\n",
        "  ```python\n",
        "\n",
        "  mcp = ModelCheckpoint(f'{models_directory}/final_model.h5', monitor='val_coeff_determination', patience=10, save_best_only=True,                         mode='max', baseline=None, restore_best_weights=True) earlystop = tf.keras.callbacks.EarlyStopping(monitor='loss', patience=7, restore_best_weights=False) reduce_lr = tf.keras.callbacks.ReduceLROnPlateau(monitor='val_loss', factor=0.2,                               patience=5, min_lr=1e-8) callbacks=[mcp, reduce_lr]\n",
        "  ```\n",
        "\n",
        "*   The `ModelCheckpoint` callback is used to save the best model (based on the validation R2 score) to a file named `final_model.h5`.\n",
        "*   The `EarlyStopping` callback is used to stop the training if there is no improvement in the loss after 7 epochs.\n",
        "*   The `ReduceLROnPlateau` callback is used to reduce the learning rate by a factor of 0.2 if there is no improvement in the validation loss after 5 epochs.\n",
        "*   All the callbacks are stored in a list called `callbacks`.\n",
        "\n",
        "Overall, the code sets up a neural network model, compiles it with an Adam optimizer,"
      ]
    },
    {
      "cell_type": "code",
      "execution_count": null,
      "id": "7d7a415e",
      "metadata": {
        "execution": {
          "iopub.execute_input": "2023-03-12T00:20:42.384978Z",
          "iopub.status.busy": "2023-03-12T00:20:42.384336Z",
          "iopub.status.idle": "2023-03-12T00:20:42.406653Z",
          "shell.execute_reply": "2023-03-12T00:20:42.405703Z"
        },
        "id": "7d7a415e",
        "papermill": {
          "duration": 0.042132,
          "end_time": "2023-03-12T00:20:42.408974",
          "exception": false,
          "start_time": "2023-03-12T00:20:42.366842",
          "status": "completed"
        },
        "tags": []
      },
      "outputs": [],
      "source": [
        "adam = tf.keras.optimizers.Adam(learning_rate=1e-3, beta_1=0.9, beta_2=0.999, amsgrad=True)\n",
        "\n",
        "metrics = [coeff_determination] #using the custom R2 metric\n",
        "\n",
        "model.compile(optimizer=adam, loss=mse,  metrics=metrics)\n",
        "#Creating a callback to help save 'best model only'\n",
        "mcp = ModelCheckpoint(f'{models_directory}/final_model.h5', monitor='val_coeff_determination', patience=10, save_best_only=True,\n",
        "                       mode='max', baseline=None, restore_best_weights=True)\n",
        "#The best model is automatically saved at the given location\n",
        "earlystop = tf.keras.callbacks.EarlyStopping(monitor='loss', patience=7, restore_best_weights=False)\n",
        "reduce_lr = tf.keras.callbacks.ReduceLROnPlateau(monitor='val_loss', factor=0.2,\n",
        "                              patience=5, min_lr=1e-8)\n",
        "callbacks=[mcp, reduce_lr]"
      ]
    },
    {
      "cell_type": "markdown",
      "id": "e0d47c7d",
      "metadata": {
        "papermill": {
          "duration": 0.016185,
          "end_time": "2023-03-12T00:20:42.441668",
          "exception": false,
          "start_time": "2023-03-12T00:20:42.425483",
          "status": "completed"
        },
        "tags": [],
        "id": "e0d47c7d"
      },
      "source": [
        "1.  The first line of code `%%time` is a Jupyter Notebook magic command that records the execution time of the cell.\n",
        "    \n",
        "2.  `model.fit()` is a method in Keras that trains a model on a given dataset.\n",
        "    \n",
        "3.  `train_data` and `val_data` are the training and validation datasets respectively.\n",
        "    \n",
        "4.  `Epochs` is a variable that specifies the number of times the entire training dataset is passed through the model during training.\n",
        "    \n",
        "5.  `callbacks` is a list of Keras callbacks that are used during training to customize the learning process. In this case, two callbacks are used: `mcp` and `reduce_lr`.\n",
        "    \n",
        "6.  `mcp` is a callback that saves the best weights of the model during training. This is useful to avoid overfitting the model to the training data.\n",
        "    \n",
        "7.  `reduce_lr` is a callback that reduces the learning rate of the optimizer if the validation loss stops improving.\n",
        "    \n",
        "8.  The `fit()` method returns a `history` object that contains information about the training process such as loss and accuracy metrics over time.\n",
        "    \n",
        "9.  `pose_history` is a variable that stores the `history` object returned by the `fit()` method.\n",
        "    \n",
        "10.  The execution time of the cell is printed at the end using the `%%time` magic command. In this case, the user CPU time is $17$ minutes and $19$ seconds, and the total wall time is $41$ minutes and $7$ seconds."
      ]
    },
    {
      "cell_type": "code",
      "execution_count": null,
      "id": "fd72e32c",
      "metadata": {
        "execution": {
          "iopub.execute_input": "2023-03-12T00:20:42.476061Z",
          "iopub.status.busy": "2023-03-12T00:20:42.475713Z",
          "iopub.status.idle": "2023-03-12T00:53:53.979245Z",
          "shell.execute_reply": "2023-03-12T00:53:53.977949Z"
        },
        "id": "fd72e32c",
        "outputId": "7f167763-7a63-4d01-889a-5fd6fae6bd4d",
        "papermill": {
          "duration": 1991.524067,
          "end_time": "2023-03-12T00:53:53.981998",
          "exception": false,
          "start_time": "2023-03-12T00:20:42.457931",
          "status": "completed"
        },
        "scrolled": true,
        "tags": [],
        "colab": {
          "base_uri": "https://localhost:8080/"
        }
      },
      "outputs": [
        {
          "output_type": "stream",
          "name": "stdout",
          "text": [
            "Epoch 1/100\n",
            "100/100 [==============================] - 64s 439ms/step - loss: 3195.5486 - coeff_determination: -0.0723 - val_loss: 2593.6033 - val_coeff_determination: 0.1174 - lr: 0.0010\n",
            "Epoch 2/100\n",
            "100/100 [==============================] - 44s 439ms/step - loss: 1863.8279 - coeff_determination: 0.3749 - val_loss: 1705.5930 - val_coeff_determination: 0.4023 - lr: 0.0010\n",
            "Epoch 3/100\n",
            "100/100 [==============================] - 43s 431ms/step - loss: 1319.4667 - coeff_determination: 0.5578 - val_loss: 1262.0999 - val_coeff_determination: 0.5823 - lr: 0.0010\n",
            "Epoch 4/100\n",
            "100/100 [==============================] - 42s 419ms/step - loss: 990.4951 - coeff_determination: 0.6679 - val_loss: 981.8998 - val_coeff_determination: 0.6823 - lr: 0.0010\n",
            "Epoch 5/100\n",
            "100/100 [==============================] - 43s 429ms/step - loss: 763.5772 - coeff_determination: 0.7439 - val_loss: 806.4875 - val_coeff_determination: 0.6910 - lr: 0.0010\n",
            "Epoch 6/100\n",
            "100/100 [==============================] - 42s 423ms/step - loss: 653.4684 - coeff_determination: 0.7807 - val_loss: 750.1982 - val_coeff_determination: 0.7611 - lr: 0.0010\n",
            "Epoch 7/100\n",
            "100/100 [==============================] - 43s 428ms/step - loss: 593.1844 - coeff_determination: 0.8010 - val_loss: 690.5161 - val_coeff_determination: 0.7753 - lr: 0.0010\n",
            "Epoch 8/100\n",
            "100/100 [==============================] - 43s 428ms/step - loss: 548.4813 - coeff_determination: 0.8160 - val_loss: 640.8008 - val_coeff_determination: 0.8004 - lr: 0.0010\n",
            "Epoch 9/100\n",
            "100/100 [==============================] - 43s 424ms/step - loss: 512.2567 - coeff_determination: 0.8277 - val_loss: 603.1700 - val_coeff_determination: 0.8081 - lr: 0.0010\n",
            "Epoch 10/100\n",
            "100/100 [==============================] - 44s 437ms/step - loss: 491.3793 - coeff_determination: 0.8353 - val_loss: 562.1784 - val_coeff_determination: 0.8216 - lr: 0.0010\n",
            "Epoch 11/100\n",
            "100/100 [==============================] - 41s 413ms/step - loss: 472.4572 - coeff_determination: 0.8416 - val_loss: 556.6671 - val_coeff_determination: 0.5879 - lr: 0.0010\n",
            "Epoch 12/100\n",
            "100/100 [==============================] - 43s 426ms/step - loss: 438.0161 - coeff_determination: 0.8531 - val_loss: 534.1430 - val_coeff_determination: 0.8272 - lr: 0.0010\n",
            "Epoch 13/100\n",
            "100/100 [==============================] - 42s 423ms/step - loss: 411.6797 - coeff_determination: 0.8618 - val_loss: 513.0461 - val_coeff_determination: 0.8354 - lr: 0.0010\n",
            "Epoch 14/100\n",
            "100/100 [==============================] - 43s 430ms/step - loss: 388.1629 - coeff_determination: 0.8697 - val_loss: 473.0344 - val_coeff_determination: 0.8514 - lr: 0.0010\n",
            "Epoch 15/100\n",
            "100/100 [==============================] - 41s 412ms/step - loss: 367.4174 - coeff_determination: 0.8767 - val_loss: 482.4552 - val_coeff_determination: 0.8501 - lr: 0.0010\n",
            "Epoch 16/100\n",
            "100/100 [==============================] - 43s 425ms/step - loss: 346.9955 - coeff_determination: 0.8835 - val_loss: 441.6543 - val_coeff_determination: 0.8580 - lr: 0.0010\n",
            "Epoch 17/100\n",
            "100/100 [==============================] - 44s 444ms/step - loss: 327.1971 - coeff_determination: 0.8901 - val_loss: 437.4919 - val_coeff_determination: 0.8583 - lr: 0.0010\n",
            "Epoch 18/100\n",
            "100/100 [==============================] - 42s 419ms/step - loss: 319.4881 - coeff_determination: 0.8924 - val_loss: 399.7436 - val_coeff_determination: 0.8752 - lr: 0.0010\n",
            "Epoch 19/100\n",
            "100/100 [==============================] - 42s 415ms/step - loss: 309.0835 - coeff_determination: 0.8963 - val_loss: 443.4946 - val_coeff_determination: 0.8596 - lr: 0.0010\n",
            "Epoch 20/100\n",
            "100/100 [==============================] - 41s 410ms/step - loss: 300.7801 - coeff_determination: 0.8990 - val_loss: 402.9066 - val_coeff_determination: 0.8632 - lr: 0.0010\n",
            "Epoch 21/100\n",
            "100/100 [==============================] - 42s 424ms/step - loss: 289.7869 - coeff_determination: 0.9027 - val_loss: 391.7563 - val_coeff_determination: 0.8763 - lr: 0.0010\n",
            "Epoch 22/100\n",
            "100/100 [==============================] - 43s 427ms/step - loss: 286.7188 - coeff_determination: 0.9037 - val_loss: 389.9870 - val_coeff_determination: 0.8770 - lr: 0.0010\n",
            "Epoch 23/100\n",
            "100/100 [==============================] - 41s 411ms/step - loss: 278.1506 - coeff_determination: 0.9067 - val_loss: 378.7658 - val_coeff_determination: 0.8751 - lr: 0.0010\n",
            "Epoch 24/100\n",
            "100/100 [==============================] - 42s 420ms/step - loss: 271.5753 - coeff_determination: 0.9089 - val_loss: 385.7145 - val_coeff_determination: 0.8757 - lr: 0.0010\n",
            "Epoch 25/100\n",
            "100/100 [==============================] - 43s 430ms/step - loss: 270.9077 - coeff_determination: 0.9091 - val_loss: 361.1653 - val_coeff_determination: 0.8836 - lr: 0.0010\n",
            "Epoch 26/100\n",
            "100/100 [==============================] - 43s 429ms/step - loss: 266.3490 - coeff_determination: 0.9106 - val_loss: 362.7440 - val_coeff_determination: 0.8848 - lr: 0.0010\n",
            "Epoch 27/100\n",
            "100/100 [==============================] - 42s 420ms/step - loss: 258.9768 - coeff_determination: 0.9131 - val_loss: 361.6498 - val_coeff_determination: 0.8735 - lr: 0.0010\n",
            "Epoch 28/100\n",
            "100/100 [==============================] - 42s 418ms/step - loss: 255.1830 - coeff_determination: 0.9143 - val_loss: 363.3906 - val_coeff_determination: 0.8827 - lr: 0.0010\n",
            "Epoch 29/100\n",
            "100/100 [==============================] - 43s 425ms/step - loss: 253.7806 - coeff_determination: 0.9148 - val_loss: 350.1140 - val_coeff_determination: 0.8898 - lr: 0.0010\n",
            "Epoch 30/100\n",
            "100/100 [==============================] - 41s 413ms/step - loss: 243.8818 - coeff_determination: 0.9181 - val_loss: 369.1525 - val_coeff_determination: 0.8798 - lr: 0.0010\n",
            "Epoch 31/100\n",
            "100/100 [==============================] - 42s 419ms/step - loss: 242.2924 - coeff_determination: 0.9187 - val_loss: 340.7647 - val_coeff_determination: 0.8895 - lr: 0.0010\n",
            "Epoch 32/100\n",
            "100/100 [==============================] - 42s 421ms/step - loss: 236.5962 - coeff_determination: 0.9205 - val_loss: 347.8743 - val_coeff_determination: 0.8884 - lr: 0.0010\n",
            "Epoch 33/100\n",
            "100/100 [==============================] - 41s 407ms/step - loss: 234.8715 - coeff_determination: 0.9211 - val_loss: 336.3166 - val_coeff_determination: 0.8497 - lr: 0.0010\n",
            "Epoch 34/100\n",
            " 36/100 [=========>....................] - ETA: 23s - loss: 232.0888 - coeff_determination: 0.9220"
          ]
        }
      ],
      "source": [
        "%%time\n",
        "pose_history = model.fit(train_data, validation_data=val_data, epochs=Epochs, callbacks=callbacks, )\n",
        "# GPU: NVIDIA Tesla P100\n",
        "# CPU times: user 17min 19s, sys: 1min 43s, total: 19min 2s\n",
        "# Wall time: 41min 7s\n",
        "\n",
        "# GPU: NVIDIA Tesla T4\n",
        "# CPU times: user 27min 33s, sys: 2min 20s, total: 29min 54s\n",
        "# Wall time: 1h 18min 16s"
      ]
    },
    {
      "cell_type": "markdown",
      "id": "33c774f6",
      "metadata": {
        "papermill": {
          "duration": 0.717181,
          "end_time": "2023-03-12T00:53:55.318479",
          "exception": false,
          "start_time": "2023-03-12T00:53:54.601298",
          "status": "completed"
        },
        "tags": [],
        "id": "33c774f6"
      },
      "source": [
        "The below code `model.evaluate(val_data)` evaluates the performance of a trained machine learning model on a validation dataset.\n",
        "\n",
        "1.  `model` refers to the trained machine learning model that you want to evaluate.\n",
        "    \n",
        "2.  `.evaluate()` is a method in the model that allows you to evaluate its performance on a given dataset.\n",
        "    \n",
        "3.  `val_data` is the validation dataset on which you want to evaluate the model.\n",
        "    \n",
        "4.  When you call `model.evaluate(val_data)`, the model uses the validation dataset to make predictions on the input data and then compares those predictions to the actual outputs in the validation dataset to calculate some evaluation metrics.\n",
        "    \n",
        "5.  The output of `model.evaluate(val_data)` will depend on the specific model and the evaluation metrics chosen, but it will typically include some measure of the model's accuracy, such as loss or accuracy metrics.\n",
        "    \n",
        "6.  The evaluation metrics can be configured during model compilation."
      ]
    },
    {
      "cell_type": "code",
      "execution_count": null,
      "id": "1c1fa5e6",
      "metadata": {
        "execution": {
          "iopub.execute_input": "2023-03-12T00:53:56.475283Z",
          "iopub.status.busy": "2023-03-12T00:53:56.474904Z",
          "iopub.status.idle": "2023-03-12T00:53:58.626483Z",
          "shell.execute_reply": "2023-03-12T00:53:58.625484Z"
        },
        "id": "1c1fa5e6",
        "papermill": {
          "duration": 2.704305,
          "end_time": "2023-03-12T00:53:58.628600",
          "exception": false,
          "start_time": "2023-03-12T00:53:55.924295",
          "status": "completed"
        },
        "tags": []
      },
      "outputs": [],
      "source": [
        "model.evaluate(val_data)"
      ]
    },
    {
      "cell_type": "markdown",
      "id": "f6525533",
      "metadata": {
        "id": "f6525533",
        "papermill": {
          "duration": 0.610711,
          "end_time": "2023-03-12T00:53:59.789207",
          "exception": false,
          "start_time": "2023-03-12T00:53:59.178496",
          "status": "completed"
        },
        "tags": []
      },
      "source": [
        " ## <h2 id=\"section-2\"> 2. Neural Network (NN) based Action Recognition model</h2>"
      ]
    },
    {
      "cell_type": "markdown",
      "id": "72e9c12f",
      "metadata": {
        "papermill": {
          "duration": 0.570612,
          "end_time": "2023-03-12T00:54:00.917589",
          "exception": false,
          "start_time": "2023-03-12T00:54:00.346977",
          "status": "completed"
        },
        "tags": [],
        "id": "72e9c12f"
      },
      "source": [
        "1.  `cl_model = NN_model(model_save=True)` creates an instance of a neural network model called `NN_model` and sets the `model_save` flag to `True`. This may indicate that the model will be trained and saved for future use.\n",
        "    \n",
        "2.  `X_train_data, Y_train_data, X_Val, Y_Val, transformer = action_rec_dataset()` is a function call that returns five variables: `X_train_data`, `Y_train_data`, `X_Val`, `Y_Val`, and `transformer`. These variables likely represent training and validation data for an action recognition task, along with a data transformer (e.g., a label encoder).\n",
        "    \n",
        "3.  The `X_train_data` and `Y_train_data` variables are likely the input and output data for the training set, respectively.\n",
        "    \n",
        "4.  The `X_Val` and `Y_Val` variables are likely the input and output data for the validation set, respectively.\n",
        "    \n",
        "5.  The `transformer` variable is likely a transformer that encodes categorical labels as integers or one-hot vectors."
      ]
    },
    {
      "cell_type": "code",
      "execution_count": null,
      "id": "56ecdf6a",
      "metadata": {
        "execution": {
          "iopub.execute_input": "2023-03-12T00:54:02.111297Z",
          "iopub.status.busy": "2023-03-12T00:54:02.110564Z",
          "iopub.status.idle": "2023-03-12T00:54:02.344287Z",
          "shell.execute_reply": "2023-03-12T00:54:02.342699Z"
        },
        "id": "56ecdf6a",
        "papermill": {
          "duration": 0.786482,
          "end_time": "2023-03-12T00:54:02.346712",
          "exception": false,
          "start_time": "2023-03-12T00:54:01.560230",
          "status": "completed"
        },
        "tags": []
      },
      "outputs": [],
      "source": [
        "cl_model = NN_model(model_save=True)\n",
        "# x_train, y_train, x_val, y_val, enc\n",
        "X_train_data, Y_train_data, X_Val, Y_Val, transformer = action_rec_dataset()"
      ]
    },
    {
      "cell_type": "markdown",
      "id": "17a325c8",
      "metadata": {
        "papermill": {
          "duration": 0.863704,
          "end_time": "2023-03-12T00:54:03.757990",
          "exception": false,
          "start_time": "2023-03-12T00:54:02.894286",
          "status": "completed"
        },
        "tags": [],
        "id": "17a325c8"
      },
      "source": [
        "The below code is configuring a Keras deep learning model to be trained using the Adam optimizer with categorical cross-entropy as the loss function and accuracy as the metric to be measured.\n",
        "```python\n",
        "cl_model.compile(optimizer='adam', loss='categorical_crossentropy', metrics=['accuracy'])\n",
        "```\n",
        "\n",
        "The next step is to define three callbacks:\n",
        "\n",
        "1.  `ModelCheckpoint`: This callback saves the model after every epoch if the validation loss has decreased. The best model is saved in the specified file location (`final_classification_model.h5`).\n",
        "\n",
        "```python\n",
        "c_mcp=ModelCheckpoint(f'{models_directory}/final_classification_model.h5',  monitor='val_loss', patience=20, save_best_only=True, mode= 'min', restore_best_weights=True)\n",
        "```\n",
        "\n",
        "2.  `EarlyStopping`: This callback stops the training process early if the training loss does not improve after a specified number of epochs (`patience`). The weights of the best epoch are not restored (`restore_best_weights=False`).\n",
        "```python\n",
        "c_earlystop = tf.keras.callbacks.EarlyStopping(monitor='loss', patience=7, restore_best_weights=False)\n",
        "```\n",
        "\n",
        "3.  `ReduceLROnPlateau`: This callback reduces the learning rate if the validation loss does not improve after a specified number of epochs (`patience`). The learning rate is reduced by a factor of 0.2 (`factor`) and is capped at a minimum value of `1e-7`.\n",
        "```python\n",
        "c_reduce_lr = tf.keras.callbacks.ReduceLROnPlateau(monitor='val_loss', factor=0.2,  patience=5, min_lr=1e-7)\n",
        "```"
      ]
    },
    {
      "cell_type": "code",
      "execution_count": null,
      "id": "6a912f88",
      "metadata": {
        "execution": {
          "iopub.execute_input": "2023-03-12T00:54:05.106055Z",
          "iopub.status.busy": "2023-03-12T00:54:05.105653Z",
          "iopub.status.idle": "2023-03-12T00:54:05.123282Z",
          "shell.execute_reply": "2023-03-12T00:54:05.122298Z"
        },
        "id": "6a912f88",
        "papermill": {
          "duration": 0.626997,
          "end_time": "2023-03-12T00:54:05.125569",
          "exception": false,
          "start_time": "2023-03-12T00:54:04.498572",
          "status": "completed"
        },
        "tags": []
      },
      "outputs": [],
      "source": [
        "cl_model.compile(optimizer='adam', loss='categorical_crossentropy', metrics=['accuracy'])\n",
        "\n",
        "c_mcp=ModelCheckpoint(f'{models_directory}/final_classification_model.h5',\n",
        "       monitor='val_loss', patience=20, save_best_only=True,\n",
        "       mode= 'min', restore_best_weights=True)\n",
        "\n",
        "c_earlystop = tf.keras.callbacks.EarlyStopping(monitor='loss', patience=7, restore_best_weights=False)\n",
        "c_reduce_lr = tf.keras.callbacks.ReduceLROnPlateau(monitor='val_loss', factor=0.2,\n",
        "                              patience=5, min_lr=1e-7)\n",
        "callbacks=[c_mcp, c_earlystop, c_reduce_lr]"
      ]
    },
    {
      "cell_type": "markdown",
      "id": "e8f0075a",
      "metadata": {
        "papermill": {
          "duration": 0.69241,
          "end_time": "2023-03-12T00:54:06.455331",
          "exception": false,
          "start_time": "2023-03-12T00:54:05.762921",
          "status": "completed"
        },
        "tags": [],
        "id": "e8f0075a"
      },
      "source": [
        "The below code is written in Python and uses the `fit()` method of a `cl_model` object to train a machine learning model.\n",
        "\n",
        "1.  `%%time` is a Jupyter Notebook magic command that measures the execution time of a cell.\n",
        "    \n",
        "2.  `cl_model` is a machine learning model object that has been previously defined and instantiated. It is most likely an instance of a class from a machine learning library such as TensorFlow or Keras.\n",
        "    \n",
        "3.  `fit(X_train_data, Y_train_data, validation_data=(X_Val, Y_Val), epochs=Epochs, callbacks=callbacks)` is a method of the `cl_model` object that fits the model to the training data.\n",
        "    \n",
        "    a. `X_train_data` is the input training data used to train the model.\n",
        "    \n",
        "    b. `Y_train_data` is the target training data used to train the model.\n",
        "    \n",
        "    c. `validation_data=(X_Val, Y_Val)` is a tuple that contains the input validation data and the target validation data used to evaluate the performance of the model during training.\n",
        "    \n",
        "    d. `epochs=Epochs` is an integer that specifies the number of times the entire training dataset is passed through the model during training.\n",
        "    \n",
        "    e. `callbacks=callbacks` is a list of callback functions that are called during training. Callbacks are used to perform actions such as saving the model weights, stopping training early, or logging training metrics.\n",
        "    \n",
        "4.  `action_history` is a variable that stores the output of the `fit()` method. It is most likely a history object that contains information about the training and validation performance of the model during training."
      ]
    },
    {
      "cell_type": "code",
      "execution_count": null,
      "id": "2258bce2",
      "metadata": {
        "execution": {
          "iopub.execute_input": "2023-03-12T00:54:07.624083Z",
          "iopub.status.busy": "2023-03-12T00:54:07.623718Z",
          "iopub.status.idle": "2023-03-12T00:54:11.912157Z",
          "shell.execute_reply": "2023-03-12T00:54:11.910919Z"
        },
        "id": "2258bce2",
        "papermill": {
          "duration": 4.857431,
          "end_time": "2023-03-12T00:54:11.914386",
          "exception": false,
          "start_time": "2023-03-12T00:54:07.056955",
          "status": "completed"
        },
        "scrolled": true,
        "tags": []
      },
      "outputs": [],
      "source": [
        "%%time\n",
        "action_history = cl_model.fit(X_train_data, Y_train_data, validation_data=(X_Val, Y_Val), epochs=Epochs, callbacks=callbacks)"
      ]
    },
    {
      "cell_type": "markdown",
      "id": "abf2fb81",
      "metadata": {
        "papermill": {
          "duration": 0.567511,
          "end_time": "2023-03-12T00:54:13.088342",
          "exception": false,
          "start_time": "2023-03-12T00:54:12.520831",
          "status": "completed"
        },
        "tags": [],
        "id": "abf2fb81"
      },
      "source": [
        "The below code is written in Python, and it involves the following steps:\n",
        "\n",
        "1.  `cl_model` is an object of a machine learning model that has already been trained on some training data.\n",
        "    \n",
        "2.  `X_Val` is a variable that holds the validation input data, i.e., the data that will be used to evaluate the performance of the model.\n",
        "    \n",
        "3.  `Y_Val` is a variable that holds the validation output data, i.e., the expected output for the validation input data.\n",
        "    \n",
        "4.  `cl_model.evaluate()` is a method of the trained machine learning model that takes the validation input and output data as its arguments and returns the evaluation metrics for the model.\n",
        "    \n",
        "5.  The method returns a tuple containing the evaluation metrics for the model. These metrics may include the loss and accuracy of the model on the validation data, among others.\n",
        "    \n",
        "6.  The `eval_action_his` variable is assigned the tuple returned by the `cl_model.evaluate()` method, which can then be used for further analysis or to report the evaluation metrics.\n",
        "    "
      ]
    },
    {
      "cell_type": "code",
      "execution_count": null,
      "id": "34b55662",
      "metadata": {
        "execution": {
          "iopub.execute_input": "2023-03-12T00:54:14.252528Z",
          "iopub.status.busy": "2023-03-12T00:54:14.252124Z",
          "iopub.status.idle": "2023-03-12T00:54:14.337621Z",
          "shell.execute_reply": "2023-03-12T00:54:14.336596Z"
        },
        "id": "34b55662",
        "papermill": {
          "duration": 0.694786,
          "end_time": "2023-03-12T00:54:14.340000",
          "exception": false,
          "start_time": "2023-03-12T00:54:13.645214",
          "status": "completed"
        },
        "tags": []
      },
      "outputs": [],
      "source": [
        "eval_action_his = cl_model.evaluate(X_Val, Y_Val)"
      ]
    },
    {
      "cell_type": "markdown",
      "id": "40f925c3",
      "metadata": {
        "papermill": {
          "duration": 0.606494,
          "end_time": "2023-03-12T00:54:15.503752",
          "exception": false,
          "start_time": "2023-03-12T00:54:14.897258",
          "status": "completed"
        },
        "tags": [],
        "id": "40f925c3"
      },
      "source": [
        "The belwo code loads two Keras models from their saved files located in the `models_directory`.\n",
        "\n",
        "1.  `tf.keras.models.load_model` is a function from the Keras API in TensorFlow, which is used to load a Keras model from a saved file.\n",
        "    \n",
        "2.  `models_directory` is a string variable that contains the path to the directory where the model files are stored.\n",
        "    \n",
        "3.  `'final_model.h5'` is the filename of the saved Keras model that we want to load. The `.h5` extension indicates that the model was saved using the HDF5 file format.\n",
        "    \n",
        "4.  `coeff_determination` is a custom metric function that was defined by the user. This function is used to evaluate the performance of the `pose_model` during training and testing.\n",
        "    \n",
        "5.  The `custom_objects` parameter is used to pass any custom objects such as metrics or loss functions that were used during the training and that are needed to load the model correctly.\n",
        "    \n",
        "6.  `classification_model` is another Keras model that is also stored in a file in the same directory as the `pose_model`. The `tf.keras.models.load_model` function is used to load this model from the file `'final_classification_model.h5'`.\n",
        "    "
      ]
    },
    {
      "cell_type": "code",
      "execution_count": null,
      "id": "c4adad8c",
      "metadata": {
        "execution": {
          "iopub.execute_input": "2023-03-12T00:54:16.685303Z",
          "iopub.status.busy": "2023-03-12T00:54:16.684933Z",
          "iopub.status.idle": "2023-03-12T00:54:18.690126Z",
          "shell.execute_reply": "2023-03-12T00:54:18.689079Z"
        },
        "id": "c4adad8c",
        "papermill": {
          "duration": 2.634232,
          "end_time": "2023-03-12T00:54:18.692534",
          "exception": false,
          "start_time": "2023-03-12T00:54:16.058302",
          "status": "completed"
        },
        "tags": []
      },
      "outputs": [],
      "source": [
        "pose_model=tf.keras.models.load_model(models_directory + '/final_model.h5', custom_objects={'coeff_determination': coeff_determination})\n",
        "classification_model=tf.keras.models.load_model(models_directory + '/final_classification_model.h5')"
      ]
    },
    {
      "cell_type": "markdown",
      "id": "cad8a6b8",
      "metadata": {
        "papermill": {
          "duration": 0.619787,
          "end_time": "2023-03-12T00:54:19.929246",
          "exception": false,
          "start_time": "2023-03-12T00:54:19.309459",
          "status": "completed"
        },
        "tags": [],
        "id": "cad8a6b8"
      },
      "source": [
        "The below code uses Python with OpenCV and NumPy libraries to perform image processing tasks.\n",
        "\n",
        "1.  The code then defines a loop that runs for five iterations.\n",
        "\n",
        "  ```python\n",
        "  for i in range(5):     # code block\n",
        "  ```\n",
        "\n",
        "2.  In each iteration, the code generates a random number between 1 and the length of a test dataframe using `numpy.random.randint()`. The random number is then used to select a test image.\n",
        "\n",
        "  ```python\n",
        "  random_n = np.random.randint(low=1, high=len(test_df))\n",
        "  img_pose = cv2.imread(test_imgs + f'/test{random_n}.jpg')\n",
        "  ```\n",
        "\n",
        "3.  The code loads an action image using `cv2.imread()` and converts it from BGR to RGB using `cv2.cvtColor()`.\n",
        "\n",
        "  ```python\n",
        "  img_action = cv2.imread(action_imgs + f'/hello{i+1}.jpg')\n",
        "  img_action = cv2.cvtColor(img_action, cv2.COLOR_BGR2RGB)\n",
        "  ```\n",
        "\n",
        "4.  The code preprocesses the pose image by passing it through a pre-trained pose model to get the coordinates of body joints. The coordinates are extracted from the output tensor and stored in `x` and `y` lists.\n",
        "  ```python\n",
        "  cord = pose_model.predict(img_pose.reshape(-1, 224, 224, 3))[0]\n",
        "  x = []; y = []\n",
        "  for i in range(0, len(cord), 2):     \n",
        "      x.append(cord[i])     \n",
        "      y.append(cord[i+1])\n",
        "  ```\n",
        "\n",
        "5.  The code preprocesses the action image by resizing it to 224x224 and normalizing the pixel values to be between 0 and 1.\n",
        "  ```python\n",
        "  img_action = cv2.resize(img_action, (224, 224)) / 255.0\n",
        "  ```\n",
        "\n",
        "6.  The code passes the preprocessed action image through a pre-trained classification model to get the predicted action label. The label is converted to a human-readable format and stored in `label` variable.\n",
        "\n",
        "  ```python\n",
        "  pred_action = classification_model.predict(img_action.reshape(-1, 14))[0]\n",
        "  pred_label = actions_df.columns[np.argmax(pred_action)]\n",
        "  label = 'Hello' if pred_label == 0 else 'Namaste'\n",
        "  ```\n",
        "\n",
        "7.  The code then plots the preprocessed pose and action images side by side using `matplotlib` and displays them.\n",
        "\n",
        "  ```python\n",
        "      fig, (ax1, ax2) = plt.subplots(1, 2, figsize=(10, 5))\n",
        "      ax1.imshow(img_pose) ax1.plot(x, y, 'o-')\n",
        "      ax1.set_title('Pose') ax1.grid(False) ax1.axis(False)      \n",
        "      ax2.imshow(img_action) ax2.set_title(label)\n",
        "      ax2.set_xlabel(f'Prediction: {pred_label}')\n",
        "      ax2.grid(False) ax2.axis(False)  \n",
        "      plt.show()\n",
        "  ```"
      ]
    },
    {
      "cell_type": "code",
      "execution_count": null,
      "id": "89cc18c5",
      "metadata": {
        "execution": {
          "iopub.execute_input": "2023-03-12T00:54:21.118538Z",
          "iopub.status.busy": "2023-03-12T00:54:21.118140Z",
          "iopub.status.idle": "2023-03-12T00:54:29.225759Z",
          "shell.execute_reply": "2023-03-12T00:54:29.224861Z"
        },
        "id": "89cc18c5",
        "papermill": {
          "duration": 8.674232,
          "end_time": "2023-03-12T00:54:29.228479",
          "exception": false,
          "start_time": "2023-03-12T00:54:20.554247",
          "status": "completed"
        },
        "scrolled": true,
        "tags": []
      },
      "outputs": [],
      "source": [
        "for i in range(5):\n",
        "    random_n = np.random.randint(low=1, high=len(test_df))  # Taking Random Number to pick an Image\n",
        "    img_pose = cv2.imread(test_imgs + f'/test{random_n}.jpg')\n",
        "    img_action = cv2.imread(action_imgs + f'/hello{i+1}.jpg')\n",
        "    img_action = cv2.cvtColor(img_action, cv2.COLOR_BGR2RGB)\n",
        "\n",
        "    # Preprocess img_pose\n",
        "    cord = pose_model.predict(img_pose.reshape(-1, 224, 224, 3))[0]\n",
        "    x = []; y = []\n",
        "    for i in range(0, len(cord), 2):\n",
        "        x.append(cord[i])\n",
        "        y.append(cord[i+1])\n",
        "\n",
        "    # Preprocess img_action\n",
        "    img_action = cv2.resize(img_action, (224, 224)) / 255.0\n",
        "    pred_action = classification_model.predict(img_action.reshape(-1, 14))[0]\n",
        "    pred_label = actions_df.columns[np.argmax(pred_action)]\n",
        "    label = 'Hello' if pred_label == 0 else 'Namaste'\n",
        "    # Plotting\n",
        "    fig, (ax1, ax2) = plt.subplots(1, 2, figsize=(10, 5))\n",
        "    ax1.imshow(img_pose)\n",
        "    ax1.plot(x, y, 'o-')\n",
        "    ax1.set_title('Pose')\n",
        "    ax1.grid(False)\n",
        "    ax1.axis(False)\n",
        "\n",
        "    ax2.imshow(img_action)\n",
        "    ax2.set_title(label)\n",
        "    ax2.set_xlabel(f'Prediction: {pred_label}')\n",
        "    ax2.grid(False)\n",
        "    ax2.axis(False)\n",
        "\n",
        "    plt.show()\n"
      ]
    },
    {
      "cell_type": "markdown",
      "id": "19b198b2",
      "metadata": {
        "id": "19b198b2",
        "papermill": {
          "duration": 0.641516,
          "end_time": "2023-03-12T00:54:30.471378",
          "exception": false,
          "start_time": "2023-03-12T00:54:29.829862",
          "status": "completed"
        },
        "tags": []
      },
      "source": [
        "## <h2 id=\"section-3\"> 3. Action Recognition in videos </h2>"
      ]
    },
    {
      "cell_type": "code",
      "execution_count": null,
      "id": "02395b0f",
      "metadata": {
        "execution": {
          "iopub.execute_input": "2023-03-12T00:54:31.694214Z",
          "iopub.status.busy": "2023-03-12T00:54:31.693471Z",
          "iopub.status.idle": "2023-03-12T00:54:31.699718Z",
          "shell.execute_reply": "2023-03-12T00:54:31.698480Z"
        },
        "id": "02395b0f",
        "papermill": {
          "duration": 0.646423,
          "end_time": "2023-03-12T00:54:31.702764",
          "exception": false,
          "start_time": "2023-03-12T00:54:31.056341",
          "status": "completed"
        },
        "tags": []
      },
      "outputs": [],
      "source": [
        "output_file = 'output.mp4'\n",
        "gif_path = 'output.gif'\n",
        "color = np.random.randint(low=0, high=255, size=(3,))"
      ]
    },
    {
      "cell_type": "markdown",
      "id": "3ddb6e6a",
      "metadata": {
        "papermill": {
          "duration": 0.587272,
          "end_time": "2023-03-12T00:54:32.932194",
          "exception": false,
          "start_time": "2023-03-12T00:54:32.344922",
          "status": "completed"
        },
        "tags": [],
        "id": "3ddb6e6a"
      },
      "source": [
        "### 1. Implementation of Action Recognition in videos using pose joints estimated by the CNN\n",
        "**The step-by-step explanations of the below code:**\n",
        "\n",
        "1.  The code starts by reading a video file named `Waving.mp4` and capturing frames from it.\n",
        "    \n",
        "1.  The frames per second of the video are extracted using the get() function.\n",
        "    \n",
        "1.  The variable `frame_number` is initialized to 0 and `frame_count` is set to fps\\*10. This means that the code will capture the first 11 frames of the video at intervals of fps.\n",
        "    \n",
        "1.  The target size of the frame that is to be captured is set to $(224,224)$.\n",
        "    \n",
        "1.  The code checks if the video file is opened successfully.\n",
        "    \n",
        "1.  The codec for the output video is defined as `mp4v` and a VideoWriter object is created.\n",
        "    \n",
        "1.  The code enters a while loop that will run until the video is completed or the number of frames captured reaches `frame_count`.\n",
        "    \n",
        "1.  The variable `frame_number` is incremented by fps in each iteration of the while loop.\n",
        "    \n",
        "1.  The code reads the current frame using `cap.read()` function.\n",
        "    \n",
        "1.  The current frame is resized to the target size using `cv2.resize()` function.\n",
        "    \n",
        "1.  The `pose_model` is used to predict the joints coordinates from the current frame.\n",
        "    \n",
        "1.  The `x` and `y` coordinates of the joints are extracted from the predicted coordinates.\n",
        "    \n",
        "1.  The pose predictions are plotted on the frame by drawing circles on the joints using `cv2.circle()` function.\n",
        "    \n",
        "1.  The `clf_model` is used to predict whether the action in the current frame is `Hello` or `Namaste`.\n",
        "    \n",
        "1.  The predicted label is converted to `Hello` or `Namaste` using a conditional statement.\n",
        "    \n",
        "1.  The predicted label is printed to the console.\n",
        "    \n",
        "1.  The predicted label is put on the frame using `cv2.putText()` function.\n",
        "    \n",
        "1.  The current frame is written into the output video using `out.write()` function.\n",
        "    \n",
        "1.  If the video is completed or the number of frames captured reaches `frame\\_count`, the while loop will break.\n",
        "    \n",
        "1.  The video file and output video are released using `cap.release()` and `out.release()` functions, respectively.\n",
        "    \n",
        "1.  If an exception occurs during the execution of the code, it is logged and the program continues using the pass statement."
      ]
    },
    {
      "cell_type": "code",
      "execution_count": null,
      "id": "6579da7b",
      "metadata": {
        "execution": {
          "iopub.execute_input": "2023-03-12T00:54:34.159182Z",
          "iopub.status.busy": "2023-03-12T00:54:34.158810Z",
          "iopub.status.idle": "2023-03-12T00:54:36.015012Z",
          "shell.execute_reply": "2023-03-12T00:54:36.013904Z"
        },
        "id": "6579da7b",
        "papermill": {
          "duration": 2.448644,
          "end_time": "2023-03-12T00:54:36.017283",
          "exception": false,
          "start_time": "2023-03-12T00:54:33.568639",
          "status": "completed"
        },
        "scrolled": true,
        "tags": []
      },
      "outputs": [],
      "source": [
        "# Read the video file\n",
        "try:\n",
        "    #Capturing from Video File\n",
        "    cap = cv2.VideoCapture('Data/Action_Dataset/Waving.mp4')\n",
        "\n",
        "    # Get the frames per second\n",
        "    fps = cap.get(cv2.CAP_PROP_FPS)\n",
        "\n",
        "    # Set the total number of frames to be captured in the video.\n",
        "    frame_number = 0\n",
        "    frame_count = fps*10  #I am taking first 11 frames i.e for 0 to fps*10 with intervals of  fps\n",
        "    cap.set(cv2.CAP_PROP_POS_FRAMES, frame_number) # optional\n",
        "\n",
        "    #Setting the Target Size of frame that is to be captured\n",
        "    size = (224,224)\n",
        "\n",
        "    # Check if camera/VideoFile opened successfully\n",
        "    if (cap.isOpened()== False):\n",
        "        print(\"[ERROR] opening video stream or file\")\n",
        "\n",
        "    # Define the codec and create VideoWriter object\n",
        "    fourcc = cv2.VideoWriter_fourcc(*'mp4v')\n",
        "    out = cv2.VideoWriter(output_file, fourcc, fps, size)\n",
        "\n",
        "    # Read until video is completed\n",
        "    while cap.isOpened() and (frame_number <= frame_count):\n",
        "        frame_number += fps\n",
        "        ret, frame = cap.read()\n",
        "        frame = cv2.resize(frame, size)\n",
        "        if ret == True:\n",
        "            #Using pose_model to predict joints coordinates\n",
        "            cords=pose_model.predict(frame.reshape(-1,224,224,3))[0]\n",
        "            x=[];y=[]\n",
        "            for i in range(0,len(cords), 2):\n",
        "                x.append(cords[i])\n",
        "                y.append(cords[i+1])\n",
        "\n",
        "            # Plot pose predictions on the frame\n",
        "            for i in range(len(x)):\n",
        "                cv2.circle(frame, (int(x[i]), int(y[i])), 5, (int(color[0]), int(color[1]), int(color[2])), -1)\n",
        "\n",
        "            # Connect neighboring circles with lines\n",
        "            for i in range(len(x) - 1):\n",
        "                cv2.line(frame, (int(x[i]), int(y[i])), (int(x[i+1]), int(y[i+1])), (int(color[0]), int(color[1]), int(color[2])), 2)\n",
        "\n",
        "            #Next to it Using clf_model to predicting labels Namste/Hello\n",
        "            cords=cords.reshape((-1,14))\n",
        "            action=classification_model.predict(cords)\n",
        "            pred_label = actions_df.columns[np.argmax(action)]\n",
        "            label = 'Hello' if pred_label == 1 else 'Namaste'\n",
        "            print(f'{label}')\n",
        "\n",
        "            # Put text on the frame\n",
        "            font = cv2.FONT_HERSHEY_SIMPLEX\n",
        "            cv2.putText(frame, label, (10, 50), font, 1, (int(color[2]), int(color[0]), int(color[1])), 2, cv2.LINE_AA)\n",
        "\n",
        "            # Write the frame into the output video\n",
        "            out.write(frame)\n",
        "        else:\n",
        "            break\n",
        "\n",
        "    # Release everything\n",
        "    cap.release()\n",
        "    out.release()\n",
        "\n",
        "except Exception as e:\n",
        "    log(str(e))\n",
        "    pass\n"
      ]
    },
    {
      "cell_type": "markdown",
      "id": "919d8ad6",
      "metadata": {
        "papermill": {
          "duration": 0.589612,
          "end_time": "2023-03-12T00:54:37.250798",
          "exception": false,
          "start_time": "2023-03-12T00:54:36.661186",
          "status": "completed"
        },
        "tags": [],
        "id": "919d8ad6"
      },
      "source": [
        "\n",
        "1.  The next line reads the video file and stores it in a variable named `video`. `mimread()` is a method provided by `imageio` that reads a video file and returns a list of NumPy arrays, where each array represents a frame in the video.\n",
        "  ```python\n",
        "  video = imageio.mimread(output_file)\n",
        "  ```\n",
        "\n",
        "2.  The third line converts the video frames to a GIF format using the `mimsave()` method. `mimsave()` is a method provided by `imageio` that saves a list of image arrays as a multi-image file format, such as GIF.\n",
        "  ```python\n",
        "  gif = imageio.mimsave(gif_path, video, fps=30)\n",
        "  ```\n",
        "\n",
        "3.  The fourth line displays the GIF in the output. `Image` is a class provided by IPython.display module that can be used to display images in Jupyter notebooks. The `data` argument of the `Image` class expects bytes-like object which is obtained by opening and reading the saved GIF file.\n",
        "  ```python\n",
        "  display(Image(data=open(gif_path,'rb').read(), format='png'))\n",
        "  ```\n",
        "\n",
        "4.  The code is wrapped inside a `try-except` block to catch and log any exceptions that might occur during the execution of the code.\n",
        "  ```python\n",
        "  try:     \n",
        "      # Code block\n",
        "      except Exception as e:     \n",
        "          log(str(e))    \n",
        "          pass\n",
        "  ```"
      ]
    },
    {
      "cell_type": "code",
      "execution_count": null,
      "id": "f616decc",
      "metadata": {
        "execution": {
          "iopub.execute_input": "2023-03-12T00:54:38.519055Z",
          "iopub.status.busy": "2023-03-12T00:54:38.518615Z",
          "iopub.status.idle": "2023-03-12T00:54:39.021535Z",
          "shell.execute_reply": "2023-03-12T00:54:39.020475Z"
        },
        "id": "f616decc",
        "papermill": {
          "duration": 1.1794,
          "end_time": "2023-03-12T00:54:39.024714",
          "exception": false,
          "start_time": "2023-03-12T00:54:37.845314",
          "status": "completed"
        },
        "tags": []
      },
      "outputs": [],
      "source": [
        "# Read the video file\n",
        "try:\n",
        "    video = imageio.mimread(output_file)\n",
        "    # Convert the video frames to a GIF format\n",
        "    gif = imageio.mimsave(gif_path, video, fps=30)\n",
        "\n",
        "    display(Image(data=open(gif_path,'rb').read(), format='png'))\n",
        "except Exception as e:\n",
        "    log(str(e))\n",
        "    pass"
      ]
    },
    {
      "cell_type": "markdown",
      "id": "3d4d9b81",
      "metadata": {
        "id": "3d4d9b81",
        "papermill": {
          "duration": 0.646077,
          "end_time": "2023-03-12T00:54:40.334728",
          "exception": false,
          "start_time": "2023-03-12T00:54:39.688651",
          "status": "completed"
        },
        "tags": []
      },
      "source": [
        "## <h2 id='section-4'> 4. Testing your model on the evaluation dataset </h2>"
      ]
    },
    {
      "cell_type": "code",
      "execution_count": null,
      "id": "207682c9",
      "metadata": {
        "execution": {
          "iopub.execute_input": "2023-03-12T00:54:41.529272Z",
          "iopub.status.busy": "2023-03-12T00:54:41.528257Z",
          "iopub.status.idle": "2023-03-12T00:54:41.873548Z",
          "shell.execute_reply": "2023-03-12T00:54:41.872470Z"
        },
        "id": "207682c9",
        "papermill": {
          "duration": 0.944784,
          "end_time": "2023-03-12T00:54:41.875819",
          "exception": false,
          "start_time": "2023-03-12T00:54:40.931035",
          "status": "completed"
        },
        "tags": []
      },
      "outputs": [],
      "source": [
        "try:\n",
        "    # Plotting loss history\n",
        "    plt.figure(figsize=(10, 5))\n",
        "\n",
        "    # Plotting pose loss\n",
        "    plt.subplot(1, 2, 1)\n",
        "    plt.plot(pose_history.history['loss'], label='Pose Loss')\n",
        "    plt.plot(pose_history.history['val_loss'], label='Pose Validation Loss')\n",
        "    plt.title('Pose Loss History')\n",
        "    plt.xlabel('Epoch')\n",
        "    plt.ylabel('Loss')\n",
        "    plt.legend()\n",
        "\n",
        "    # Plotting action loss\n",
        "    plt.subplot(1, 2, 2)\n",
        "    plt.plot(action_history.history['loss'], label='Action Loss')\n",
        "    plt.plot(action_history.history['val_loss'], label='Action Validation Loss')\n",
        "    plt.title('Action Loss History')\n",
        "    plt.xlabel('Epoch')\n",
        "    plt.ylabel('Loss')\n",
        "    plt.legend()\n",
        "\n",
        "    plt.show()\n",
        "except Exception as e:\n",
        "    log(str(e))\n",
        "    pass"
      ]
    },
    {
      "cell_type": "code",
      "execution_count": null,
      "id": "4096399b",
      "metadata": {
        "execution": {
          "iopub.execute_input": "2023-03-12T00:54:43.132978Z",
          "iopub.status.busy": "2023-03-12T00:54:43.132486Z",
          "iopub.status.idle": "2023-03-12T00:54:43.424166Z",
          "shell.execute_reply": "2023-03-12T00:54:43.423230Z"
        },
        "id": "4096399b",
        "papermill": {
          "duration": 0.909396,
          "end_time": "2023-03-12T00:54:43.426304",
          "exception": false,
          "start_time": "2023-03-12T00:54:42.516908",
          "status": "completed"
        },
        "tags": []
      },
      "outputs": [],
      "source": [
        "try:\n",
        "# plot pose history\n",
        "    fig, (ax1, ax2) = plt.subplots(1, 2, figsize=(12, 5))\n",
        "    ax1.plot(pose_history.history['coeff_determination'])\n",
        "    ax1.plot(pose_history.history['val_coeff_determination'])\n",
        "    ax1.set_title('Pose Model Metrics')\n",
        "    ax1.set_xlabel('Epoch')\n",
        "    ax1.set_ylabel('Coeff. Determination')\n",
        "\n",
        "    # plot action history\n",
        "    ax2.plot(action_history.history['accuracy'])\n",
        "    ax2.plot(action_history.history['val_accuracy'])\n",
        "    ax2.set_title('Action Model Metrics')\n",
        "    ax2.set_xlabel('Epoch')\n",
        "    ax2.set_ylabel('Accuracy')\n",
        "\n",
        "    plt.show()\n",
        "except Exception as e:\n",
        "    log(str(e))\n",
        "    pass"
      ]
    },
    {
      "cell_type": "code",
      "execution_count": null,
      "id": "d6cd7e4a",
      "metadata": {
        "execution": {
          "iopub.execute_input": "2023-03-12T00:54:44.676742Z",
          "iopub.status.busy": "2023-03-12T00:54:44.676352Z",
          "iopub.status.idle": "2023-03-12T00:54:49.918345Z",
          "shell.execute_reply": "2023-03-12T00:54:49.917051Z"
        },
        "id": "d6cd7e4a",
        "papermill": {
          "duration": 5.84333,
          "end_time": "2023-03-12T00:54:49.921284",
          "exception": false,
          "start_time": "2023-03-12T00:54:44.077954",
          "status": "completed"
        },
        "tags": []
      },
      "outputs": [],
      "source": [
        "try:\n",
        "    eval_pose_his = model.evaluate(test_data)\n",
        "except Exception as e:\n",
        "    log(str(e))\n",
        "    pass"
      ]
    },
    {
      "cell_type": "code",
      "execution_count": null,
      "id": "1a3f4d5f",
      "metadata": {
        "execution": {
          "iopub.execute_input": "2023-03-12T00:54:51.196388Z",
          "iopub.status.busy": "2023-03-12T00:54:51.196021Z",
          "iopub.status.idle": "2023-03-12T00:54:51.204595Z",
          "shell.execute_reply": "2023-03-12T00:54:51.203499Z"
        },
        "id": "1a3f4d5f",
        "papermill": {
          "duration": 0.609171,
          "end_time": "2023-03-12T00:54:51.206966",
          "exception": false,
          "start_time": "2023-03-12T00:54:50.597795",
          "status": "completed"
        },
        "tags": []
      },
      "outputs": [],
      "source": [
        "try:\n",
        "    print((f'[Evaluation On Pose] loss: {eval_pose_his[0]} - coeff_determination: {eval_pose_his[1]}'))\n",
        "    log(f'[Evaluation On Pose] loss: {eval_pose_his[0]} - coeff_determination: {eval_pose_his[1]}')\n",
        "except Exception as e:\n",
        "    log(str(e))\n",
        "    pass"
      ]
    },
    {
      "cell_type": "code",
      "execution_count": null,
      "id": "73a102eb",
      "metadata": {
        "execution": {
          "iopub.execute_input": "2023-03-12T00:54:52.451023Z",
          "iopub.status.busy": "2023-03-12T00:54:52.450654Z",
          "iopub.status.idle": "2023-03-12T00:54:52.459431Z",
          "shell.execute_reply": "2023-03-12T00:54:52.457660Z"
        },
        "id": "73a102eb",
        "papermill": {
          "duration": 0.659215,
          "end_time": "2023-03-12T00:54:52.462137",
          "exception": false,
          "start_time": "2023-03-12T00:54:51.802922",
          "status": "completed"
        },
        "tags": []
      },
      "outputs": [],
      "source": [
        "try:\n",
        "    print(f'[Evaluation On Action] loss: {eval_action_his[0]} - accuracy: {eval_action_his[1]}')\n",
        "    log(f'[Evaluation On Action] loss: {eval_action_his[0]} - accuracy: {eval_action_his[1]}')\n",
        "except Exception as e:\n",
        "    log(str(e))\n",
        "    pass"
      ]
    },
    {
      "cell_type": "markdown",
      "source": [
        "## Conclusion\n",
        "\n",
        "This project successfully constructed a Pose Estimation model based on Convolutional Neural Networks (CNN) and an Action Recognition model based on Neural Networks (NN). After that, the Action Recognition model was combined with the Pose Estimation model to detect actions in films using pose joints predicted by CNN. The project report contains a detailed.ipynb file including the code as well as descriptions of the models' architecture, data preparation, and assessment measures. The model was evaluated on an assessment dataset, and the results show that the models are capable of reliably detecting human actions in films."
      ],
      "metadata": {
        "id": "8bPfBjHx-R7W"
      },
      "id": "8bPfBjHx-R7W"
    }
  ],
  "metadata": {
    "kernelspec": {
      "display_name": "Python 3",
      "language": "python",
      "name": "python3"
    },
    "language_info": {
      "codemirror_mode": {
        "name": "ipython",
        "version": 3
      },
      "file_extension": ".py",
      "mimetype": "text/x-python",
      "name": "python",
      "nbconvert_exporter": "python",
      "pygments_lexer": "ipython3",
      "version": "3.7.12"
    },
    "papermill": {
      "default_parameters": {},
      "duration": 2094.720784,
      "end_time": "2023-03-12T00:54:56.857192",
      "environment_variables": {},
      "exception": null,
      "input_path": "__notebook__.ipynb",
      "output_path": "__notebook__.ipynb",
      "parameters": {},
      "start_time": "2023-03-12T00:20:02.136408",
      "version": "2.4.0"
    },
    "colab": {
      "provenance": [],
      "include_colab_link": true
    },
    "accelerator": "GPU",
    "gpuClass": "standard"
  },
  "nbformat": 4,
  "nbformat_minor": 5
}